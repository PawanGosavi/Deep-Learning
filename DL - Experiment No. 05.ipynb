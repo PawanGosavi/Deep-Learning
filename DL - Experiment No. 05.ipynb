{
  "nbformat": 4,
  "nbformat_minor": 0,
  "metadata": {
    "kernelspec": {
      "display_name": "Python 3",
      "language": "python",
      "name": "python3"
    },
    "language_info": {
      "codemirror_mode": {
        "name": "ipython",
        "version": 3
      },
      "file_extension": ".py",
      "mimetype": "text/x-python",
      "name": "python",
      "nbconvert_exporter": "python",
      "pygments_lexer": "ipython3",
      "version": "3.8.5"
    },
    "colab": {
      "provenance": [],
      "collapsed_sections": []
    }
  },
  "cells": [
    {
      "cell_type": "code",
      "metadata": {
        "id": "PEiW8-OjHob_"
      },
      "source": [
        "# Install Libraries\n",
        "# !pip install numpy\n",
        "# !pip install matplotlib\n",
        "# !pip install pandas\n",
        "# !pip install keras\n",
        "# !pip install tensorflow --user\n",
        "# !pip install tensorflow\n",
        "# !pip install tensorflow-gpu --\n",
        "# !pip install tensorflow-gpu"
      ],
      "execution_count": null,
      "outputs": []
    },
    {
      "cell_type": "code",
      "metadata": {
        "id": "qYMW9cCbHocq"
      },
      "source": [
        "# Import Libraries\n",
        "import numpy as np\n",
        "import matplotlib.pyplot as plt\n",
        "import pandas as pd"
      ],
      "execution_count": null,
      "outputs": []
    },
    {
      "cell_type": "code",
      "metadata": {
        "id": "7aJIN51MHocu"
      },
      "source": [
        "# Import Dataset\n",
        "# Import File from Loacal Drive\n",
        "# from google.colab import files\n",
        "# data_to_load = files.upload()\n",
        "# from google.colab import drive\n",
        "# import io\n",
        "# drive.mount('/content/drive')\n",
        "Train_path = \"/content/drive/MyDrive/Files/AAPL - Train.csv\"\n",
        "apple_training_complete = pd.read_csv(Train_path)"
      ],
      "execution_count": null,
      "outputs": []
    },
    {
      "cell_type": "code",
      "metadata": {
        "id": "jaIJHWWjHocw"
      },
      "source": [
        "# Filtered Dataset\n",
        "apple_training_processed = apple_training_complete.iloc[:, 1:2].values"
      ],
      "execution_count": null,
      "outputs": []
    },
    {
      "cell_type": "code",
      "metadata": {
        "id": "dojgNBjZHocy"
      },
      "source": [
        "# Data Normalization\n",
        "from sklearn.preprocessing import MinMaxScaler\n",
        "scaler = MinMaxScaler(feature_range = (0, 1))\n",
        "\n",
        "apple_training_scaled = scaler.fit_transform(apple_training_processed)"
      ],
      "execution_count": null,
      "outputs": []
    },
    {
      "cell_type": "code",
      "metadata": {
        "id": "eaTp8eXmHoc1"
      },
      "source": [
        "# Convert Training Data to Right Shape\n",
        "features_set = []\n",
        "labels = []\n",
        "for i in range(60, 1259):\n",
        "    features_set.append(apple_training_scaled[i-60:i, 0])\n",
        "    labels.append(apple_training_scaled[i, 0])"
      ],
      "execution_count": null,
      "outputs": []
    },
    {
      "cell_type": "code",
      "metadata": {
        "id": "H1pvUPD5Hoc3"
      },
      "source": [
        "# Convert lists to the numpy array\n",
        "features_set, labels = np.array(features_set), np.array(labels)"
      ],
      "execution_count": null,
      "outputs": []
    },
    {
      "cell_type": "code",
      "metadata": {
        "id": "WuPbcHERHoc5"
      },
      "source": [
        "# convert data into three-dimensional format\n",
        "features_set = np.reshape(features_set, (features_set.shape[0], features_set.shape[1], 1))"
      ],
      "execution_count": null,
      "outputs": []
    },
    {
      "cell_type": "code",
      "metadata": {
        "id": "aKoCLQLwHoc7"
      },
      "source": [
        "# Training The LSTM\n",
        "from keras.models import Sequential\n",
        "from keras.layers import Dense\n",
        "from keras.layers import LSTM\n",
        "from keras.layers import Dropout"
      ],
      "execution_count": null,
      "outputs": []
    },
    {
      "cell_type": "code",
      "metadata": {
        "id": "nF0D8fiwHodC"
      },
      "source": [
        "# instantiate the Sequential class\n",
        "model = Sequential()"
      ],
      "execution_count": null,
      "outputs": []
    },
    {
      "cell_type": "code",
      "metadata": {
        "id": "Xtq5h88WHodE"
      },
      "source": [
        "# Creating LSTM and Dropout Layers\n",
        "model.add(LSTM(units=50, return_sequences=True, input_shape=(features_set.shape[1], 1)))"
      ],
      "execution_count": null,
      "outputs": []
    },
    {
      "cell_type": "code",
      "metadata": {
        "id": "LwNmSjwsHodG"
      },
      "source": [
        "# Add a dropout layer to model\n",
        "model.add(Dropout(0.2))"
      ],
      "execution_count": null,
      "outputs": []
    },
    {
      "cell_type": "code",
      "metadata": {
        "id": "24NUqXGlHodH"
      },
      "source": [
        "# Add 3 More dropout layers to model\n",
        "model.add(LSTM(units=50, return_sequences=True))\n",
        "model.add(Dropout(0.2))\n",
        "\n",
        "model.add(LSTM(units=50, return_sequences=True))\n",
        "model.add(Dropout(0.2))\n",
        "\n",
        "model.add(LSTM(units=50))\n",
        "model.add(Dropout(0.2))"
      ],
      "execution_count": null,
      "outputs": []
    },
    {
      "cell_type": "code",
      "metadata": {
        "id": "peuOJkGvHodJ"
      },
      "source": [
        "# Creating Dense Layer\n",
        "model.add(Dense(units = 1))"
      ],
      "execution_count": null,
      "outputs": []
    },
    {
      "cell_type": "code",
      "metadata": {
        "id": "xeoSR8BHHodK"
      },
      "source": [
        "# Model Compilation\n",
        "model.compile(optimizer = 'adam', loss = 'mean_squared_error')"
      ],
      "execution_count": null,
      "outputs": []
    },
    {
      "cell_type": "code",
      "metadata": {
        "colab": {
          "base_uri": "https://localhost:8080/"
        },
        "id": "OHNtltScHodM",
        "outputId": "31b57010-36b2-4a9c-92cc-d1772e3dde3a"
      },
      "source": [
        "# Algorithm Training\n",
        "model.fit(features_set, labels, epochs = 100, batch_size = 32)"
      ],
      "execution_count": null,
      "outputs": [
        {
          "output_type": "stream",
          "text": [
            "Epoch 1/100\n",
            "38/38 [==============================] - 11s 112ms/step - loss: 0.0349\n",
            "Epoch 2/100\n",
            "38/38 [==============================] - 4s 114ms/step - loss: 0.0029\n",
            "Epoch 3/100\n",
            "38/38 [==============================] - 4s 114ms/step - loss: 0.0040\n",
            "Epoch 4/100\n",
            "38/38 [==============================] - 4s 115ms/step - loss: 0.0027\n",
            "Epoch 5/100\n",
            "38/38 [==============================] - 4s 115ms/step - loss: 0.0024\n",
            "Epoch 6/100\n",
            "38/38 [==============================] - 4s 117ms/step - loss: 0.0030\n",
            "Epoch 7/100\n",
            "38/38 [==============================] - 4s 117ms/step - loss: 0.0022\n",
            "Epoch 8/100\n",
            "38/38 [==============================] - 4s 116ms/step - loss: 0.0022\n",
            "Epoch 9/100\n",
            "38/38 [==============================] - 4s 117ms/step - loss: 0.0021\n",
            "Epoch 10/100\n",
            "38/38 [==============================] - 4s 115ms/step - loss: 0.0029\n",
            "Epoch 11/100\n",
            "38/38 [==============================] - 4s 115ms/step - loss: 0.0032\n",
            "Epoch 12/100\n",
            "38/38 [==============================] - 4s 115ms/step - loss: 0.0021\n",
            "Epoch 13/100\n",
            "38/38 [==============================] - 4s 116ms/step - loss: 0.0020\n",
            "Epoch 14/100\n",
            "38/38 [==============================] - 4s 117ms/step - loss: 0.0021\n",
            "Epoch 15/100\n",
            "38/38 [==============================] - 4s 118ms/step - loss: 0.0021\n",
            "Epoch 16/100\n",
            "38/38 [==============================] - 4s 116ms/step - loss: 0.0019\n",
            "Epoch 17/100\n",
            "38/38 [==============================] - 4s 114ms/step - loss: 0.0017\n",
            "Epoch 18/100\n",
            "38/38 [==============================] - 4s 116ms/step - loss: 0.0019\n",
            "Epoch 19/100\n",
            "38/38 [==============================] - 4s 118ms/step - loss: 0.0017\n",
            "Epoch 20/100\n",
            "38/38 [==============================] - 4s 117ms/step - loss: 0.0021\n",
            "Epoch 21/100\n",
            "38/38 [==============================] - 4s 117ms/step - loss: 0.0015\n",
            "Epoch 22/100\n",
            "38/38 [==============================] - 4s 116ms/step - loss: 0.0016\n",
            "Epoch 23/100\n",
            "38/38 [==============================] - 4s 116ms/step - loss: 0.0016\n",
            "Epoch 24/100\n",
            "38/38 [==============================] - 4s 118ms/step - loss: 0.0017\n",
            "Epoch 25/100\n",
            "38/38 [==============================] - 4s 118ms/step - loss: 0.0017\n",
            "Epoch 26/100\n",
            "38/38 [==============================] - 4s 116ms/step - loss: 0.0021\n",
            "Epoch 27/100\n",
            "38/38 [==============================] - 4s 114ms/step - loss: 0.0014\n",
            "Epoch 28/100\n",
            "38/38 [==============================] - 4s 116ms/step - loss: 0.0014\n",
            "Epoch 29/100\n",
            "38/38 [==============================] - 4s 116ms/step - loss: 0.0017\n",
            "Epoch 30/100\n",
            "38/38 [==============================] - 4s 116ms/step - loss: 0.0017\n",
            "Epoch 31/100\n",
            "38/38 [==============================] - 4s 117ms/step - loss: 0.0013\n",
            "Epoch 32/100\n",
            "38/38 [==============================] - 4s 117ms/step - loss: 0.0013\n",
            "Epoch 33/100\n",
            "38/38 [==============================] - 4s 116ms/step - loss: 0.0017\n",
            "Epoch 34/100\n",
            "38/38 [==============================] - 4s 116ms/step - loss: 0.0015\n",
            "Epoch 35/100\n",
            "38/38 [==============================] - 4s 117ms/step - loss: 0.0014\n",
            "Epoch 36/100\n",
            "38/38 [==============================] - 4s 116ms/step - loss: 0.0014\n",
            "Epoch 37/100\n",
            "38/38 [==============================] - 4s 115ms/step - loss: 0.0014\n",
            "Epoch 38/100\n",
            "38/38 [==============================] - 4s 117ms/step - loss: 0.0016\n",
            "Epoch 39/100\n",
            "38/38 [==============================] - 4s 117ms/step - loss: 0.0014\n",
            "Epoch 40/100\n",
            "38/38 [==============================] - 4s 116ms/step - loss: 0.0013\n",
            "Epoch 41/100\n",
            "38/38 [==============================] - 4s 117ms/step - loss: 0.0013\n",
            "Epoch 42/100\n",
            "38/38 [==============================] - 4s 118ms/step - loss: 0.0010\n",
            "Epoch 43/100\n",
            "38/38 [==============================] - 4s 117ms/step - loss: 0.0013\n",
            "Epoch 44/100\n",
            "38/38 [==============================] - 4s 118ms/step - loss: 0.0012\n",
            "Epoch 45/100\n",
            "38/38 [==============================] - 4s 117ms/step - loss: 0.0011\n",
            "Epoch 46/100\n",
            "38/38 [==============================] - 4s 117ms/step - loss: 0.0011\n",
            "Epoch 47/100\n",
            "38/38 [==============================] - 4s 117ms/step - loss: 0.0011\n",
            "Epoch 48/100\n",
            "38/38 [==============================] - 5s 120ms/step - loss: 9.7229e-04\n",
            "Epoch 49/100\n",
            "38/38 [==============================] - 5s 118ms/step - loss: 0.0010\n",
            "Epoch 50/100\n",
            "38/38 [==============================] - 4s 117ms/step - loss: 0.0013\n",
            "Epoch 51/100\n",
            "38/38 [==============================] - 4s 118ms/step - loss: 0.0016\n",
            "Epoch 52/100\n",
            "38/38 [==============================] - 4s 118ms/step - loss: 0.0011\n",
            "Epoch 53/100\n",
            "38/38 [==============================] - 5s 118ms/step - loss: 0.0013\n",
            "Epoch 54/100\n",
            "38/38 [==============================] - 5s 119ms/step - loss: 0.0012\n",
            "Epoch 55/100\n",
            "38/38 [==============================] - 5s 122ms/step - loss: 0.0011\n",
            "Epoch 56/100\n",
            "38/38 [==============================] - 4s 118ms/step - loss: 0.0011\n",
            "Epoch 57/100\n",
            "38/38 [==============================] - 4s 118ms/step - loss: 0.0011\n",
            "Epoch 58/100\n",
            "38/38 [==============================] - 5s 118ms/step - loss: 0.0012\n",
            "Epoch 59/100\n",
            "38/38 [==============================] - 5s 118ms/step - loss: 0.0017\n",
            "Epoch 60/100\n",
            "38/38 [==============================] - 5s 118ms/step - loss: 0.0012\n",
            "Epoch 61/100\n",
            "38/38 [==============================] - 5s 120ms/step - loss: 0.0011\n",
            "Epoch 62/100\n",
            "38/38 [==============================] - 4s 118ms/step - loss: 0.0010\n",
            "Epoch 63/100\n",
            "38/38 [==============================] - 4s 118ms/step - loss: 0.0013\n",
            "Epoch 64/100\n",
            "38/38 [==============================] - 5s 120ms/step - loss: 9.9222e-04\n",
            "Epoch 65/100\n",
            "38/38 [==============================] - 5s 121ms/step - loss: 0.0013\n",
            "Epoch 66/100\n",
            "38/38 [==============================] - 5s 120ms/step - loss: 0.0010\n",
            "Epoch 67/100\n",
            "38/38 [==============================] - 4s 118ms/step - loss: 9.4402e-04\n",
            "Epoch 68/100\n",
            "38/38 [==============================] - 5s 121ms/step - loss: 9.2129e-04\n",
            "Epoch 69/100\n",
            "38/38 [==============================] - 5s 122ms/step - loss: 0.0010\n",
            "Epoch 70/100\n",
            "38/38 [==============================] - 5s 134ms/step - loss: 0.0011\n",
            "Epoch 71/100\n",
            "38/38 [==============================] - 6s 147ms/step - loss: 9.2652e-04\n",
            "Epoch 72/100\n",
            "38/38 [==============================] - 5s 122ms/step - loss: 9.9049e-04\n",
            "Epoch 73/100\n",
            "38/38 [==============================] - 5s 121ms/step - loss: 9.1439e-04\n",
            "Epoch 74/100\n",
            "38/38 [==============================] - 5s 120ms/step - loss: 7.8424e-04\n",
            "Epoch 75/100\n",
            "38/38 [==============================] - 5s 120ms/step - loss: 9.3234e-04\n",
            "Epoch 76/100\n",
            "38/38 [==============================] - 5s 122ms/step - loss: 9.2746e-04\n",
            "Epoch 77/100\n",
            "38/38 [==============================] - 5s 120ms/step - loss: 8.4777e-04\n",
            "Epoch 78/100\n",
            "38/38 [==============================] - 5s 122ms/step - loss: 7.3411e-04\n",
            "Epoch 79/100\n",
            "38/38 [==============================] - 4s 118ms/step - loss: 8.3617e-04\n",
            "Epoch 80/100\n",
            "38/38 [==============================] - 5s 120ms/step - loss: 0.0011\n",
            "Epoch 81/100\n",
            "38/38 [==============================] - 5s 119ms/step - loss: 9.2643e-04\n",
            "Epoch 82/100\n",
            "38/38 [==============================] - 5s 119ms/step - loss: 0.0010\n",
            "Epoch 83/100\n",
            "38/38 [==============================] - 5s 120ms/step - loss: 0.0010\n",
            "Epoch 84/100\n",
            "38/38 [==============================] - 5s 120ms/step - loss: 9.4618e-04\n",
            "Epoch 85/100\n",
            "38/38 [==============================] - 5s 121ms/step - loss: 7.5009e-04\n",
            "Epoch 86/100\n",
            "38/38 [==============================] - 5s 119ms/step - loss: 9.3272e-04\n",
            "Epoch 87/100\n",
            "38/38 [==============================] - 5s 121ms/step - loss: 0.0011\n",
            "Epoch 88/100\n",
            "38/38 [==============================] - 5s 119ms/step - loss: 0.0011\n",
            "Epoch 89/100\n",
            "38/38 [==============================] - 5s 120ms/step - loss: 9.3703e-04\n",
            "Epoch 90/100\n",
            "38/38 [==============================] - 5s 120ms/step - loss: 0.0010\n",
            "Epoch 91/100\n",
            "38/38 [==============================] - 5s 122ms/step - loss: 8.5664e-04\n",
            "Epoch 92/100\n",
            "38/38 [==============================] - 5s 120ms/step - loss: 8.9830e-04\n",
            "Epoch 93/100\n",
            "38/38 [==============================] - 5s 120ms/step - loss: 7.6881e-04\n",
            "Epoch 94/100\n",
            "38/38 [==============================] - 5s 120ms/step - loss: 9.2357e-04\n",
            "Epoch 95/100\n",
            "38/38 [==============================] - 5s 120ms/step - loss: 0.0011\n",
            "Epoch 96/100\n",
            "38/38 [==============================] - 5s 121ms/step - loss: 9.4971e-04\n",
            "Epoch 97/100\n",
            "38/38 [==============================] - 5s 121ms/step - loss: 9.0652e-04\n",
            "Epoch 98/100\n",
            "38/38 [==============================] - 5s 120ms/step - loss: 8.2069e-04\n",
            "Epoch 99/100\n",
            "38/38 [==============================] - 5s 121ms/step - loss: 0.0011\n",
            "Epoch 100/100\n",
            "38/38 [==============================] - 5s 120ms/step - loss: 8.5169e-04\n"
          ],
          "name": "stdout"
        },
        {
          "output_type": "execute_result",
          "data": {
            "text/plain": [
              "<tensorflow.python.keras.callbacks.History at 0x7fa76fe1ffd0>"
            ]
          },
          "metadata": {
            "tags": []
          },
          "execution_count": 22
        }
      ]
    },
    {
      "cell_type": "code",
      "metadata": {
        "id": "k3pA9aWDHodO"
      },
      "source": [
        "# Testing our LSTM\n",
        "Test_path = \"/content/drive/MyDrive/Files/AAPL - Test.csv\"\n",
        "apple_testing_complete = pd.read_csv(Test_path)\n",
        "apple_testing_processed = apple_testing_complete.iloc[:, 1:2].values"
      ],
      "execution_count": null,
      "outputs": []
    },
    {
      "cell_type": "code",
      "metadata": {
        "id": "IN-3FY1nHodP"
      },
      "source": [
        "# Converting Test Data to Right Format\n",
        "apple_total = pd.concat((apple_training_complete['Open'], apple_testing_complete['Open']), axis=0)"
      ],
      "execution_count": null,
      "outputs": []
    },
    {
      "cell_type": "code",
      "metadata": {
        "id": "7Ilfw_2lHodQ"
      },
      "source": [
        "# Fetching training set\n",
        "test_inputs = apple_total[len(apple_total) - len(apple_testing_complete) - 60:].values"
      ],
      "execution_count": null,
      "outputs": []
    },
    {
      "cell_type": "code",
      "metadata": {
        "id": "kEaEJpYTHodS"
      },
      "source": [
        "# Scale test data\n",
        "test_inputs = test_inputs.reshape(-1,1)\n",
        "test_inputs = scaler.transform(test_inputs)"
      ],
      "execution_count": null,
      "outputs": []
    },
    {
      "cell_type": "code",
      "metadata": {
        "id": "Nqhc7O7QHodT"
      },
      "source": [
        "# Prepare final test input set\n",
        "test_features = []\n",
        "for i in range(60, 80):\n",
        "    test_features.append(test_inputs[i-60:i, 0])"
      ],
      "execution_count": null,
      "outputs": []
    },
    {
      "cell_type": "code",
      "metadata": {
        "id": "snjopHnBHodU"
      },
      "source": [
        "# Convert data into the three-dimensional format\n",
        "test_features = np.array(test_features)\n",
        "test_features = np.reshape(test_features, (test_features.shape[0], test_features.shape[1], 1))"
      ],
      "execution_count": null,
      "outputs": []
    },
    {
      "cell_type": "code",
      "metadata": {
        "id": "aXviDQiwHodW"
      },
      "source": [
        "# Making Predictions\n",
        "predictions = model.predict(test_features)"
      ],
      "execution_count": null,
      "outputs": []
    },
    {
      "cell_type": "code",
      "metadata": {
        "id": "ZbmgFad7HodY"
      },
      "source": [
        "# Reverse the scaled prediction back to their actual values\n",
        "predictions = scaler.inverse_transform(predictions)"
      ],
      "execution_count": null,
      "outputs": []
    },
    {
      "cell_type": "code",
      "metadata": {
        "colab": {
          "base_uri": "https://localhost:8080/",
          "height": 404
        },
        "id": "fVREbbWOHodZ",
        "outputId": "7dec1c7f-4158-42ff-d615-a4136e3f8292"
      },
      "source": [
        "# Conclusion - Plot\n",
        "plt.figure(figsize=(10,6))\n",
        "plt.plot(apple_testing_processed, color='blue', label='Actual Apple Stock Price')\n",
        "plt.plot(predictions , color='red', label='Predicted Apple Stock Price')\n",
        "plt.title('Apple Stock Price Prediction')\n",
        "plt.xlabel('Date')\n",
        "plt.ylabel('Apple Stock Price')\n",
        "plt.legend()\n",
        "plt.show()"
      ],
      "execution_count": null,
      "outputs": [
        {
          "output_type": "display_data",
          "data": {
            "image/png": "[encoded data removed]",
            "text/plain": [
              "<Figure size 720x432 with 1 Axes>"
            ]
          },
          "metadata": {
            "tags": [],
            "needs_background": "light"
          }
        }
      ]
    }
  ]
}
