{
  "nbformat": 4,
  "nbformat_minor": 0,
  "metadata": {
    "kernelspec": {
      "display_name": "Python 3",
      "language": "python",
      "name": "python3"
    },
    "language_info": {
      "codemirror_mode": {
        "name": "ipython",
        "version": 3
      },
      "file_extension": ".py",
      "mimetype": "text/x-python",
      "name": "python",
      "nbconvert_exporter": "python",
      "pygments_lexer": "ipython3",
      "version": "3.7.1"
    },
    "colab": {
      "provenance": [],
      "collapsed_sections": []
    }
  },
  "cells": [
    {
      "cell_type": "code",
      "metadata": {
        "collapsed": true,
        "id": "1IGthQzkhU04"
      },
      "source": [
        "# Read the Data from Text\n",
        "def read_file(file_name): \n",
        "    data_list  = []\n",
        "    with open(file_name, 'r') as f: \n",
        "        for line in f: \n",
        "            line = line.strip() \n",
        "            label = ' '.join(line[1:line.find(\"]\")].strip().split())\n",
        "            text = line[line.find(\"]\")+1:].strip()\n",
        "            data_list.append([label, text])\n",
        "    return data_list "
      ],
      "execution_count": null,
      "outputs": []
    },
    {
      "cell_type": "code",
      "metadata": {
        "collapsed": true,
        "colab": {
          "base_uri": "https://localhost:8080/"
        },
        "id": "gjbwT3iBhU06",
        "outputId": "99c07d4a-c01b-48b3-f251-2c25eea3bdfa"
      },
      "source": [
        "# Import Dataset\n",
        "# Import File from Loacal Drive\n",
        "# from google.colab import files\n",
        "# data_to_load = files.upload()\n",
        "from google.colab import drive\n",
        "drive.mount('/content/drive')\n",
        "file_name = '/content/drive/MyDrive/Files/data.txt'\n",
        "psychExp_txt = read_file(file_name) "
      ],
      "execution_count": null,
      "outputs": [
        {
          "output_type": "stream",
          "text": [
            "Mounted at /content/drive\n"
          ],
          "name": "stdout"
        }
      ]
    },
    {
      "cell_type": "code",
      "metadata": {
        "scrolled": true,
        "colab": {
          "base_uri": "https://localhost:8080/"
        },
        "id": "4XyT2PSLhU07",
        "outputId": "3a3036e1-dd68-47a7-daf2-b3f7e80c0553"
      },
      "source": [
        "# Total Entries of Data\n",
        "print(\"The number of instances: {}\".format(len(psychExp_txt)))"
      ],
      "execution_count": null,
      "outputs": [
        {
          "output_type": "stream",
          "text": [
            "The number of instances: 7480\n"
          ],
          "name": "stdout"
        }
      ]
    },
    {
      "cell_type": "code",
      "metadata": {
        "colab": {
          "base_uri": "https://localhost:8080/"
        },
        "id": "GQN7DEKHhU1B",
        "outputId": "5fbad503-5ce2-4da8-dee2-cb209bda5744"
      },
      "source": [
        "# One Example of Data\n",
        "print(\"Data example: \")\n",
        "print(psychExp_txt[6932])"
      ],
      "execution_count": null,
      "outputs": [
        {
          "output_type": "stream",
          "text": [
            "Data example: \n",
            "['0. 0. 0. 0. 0. 0. 1.', 'Made a mistake at work.']\n"
          ],
          "name": "stdout"
        }
      ]
    },
    {
      "cell_type": "code",
      "metadata": {
        "collapsed": true,
        "id": "xbOhjolMhU1E"
      },
      "source": [
        "# Identifying Features\n",
        "import re \n",
        "from collections import Counter"
      ],
      "execution_count": null,
      "outputs": []
    },
    {
      "cell_type": "code",
      "metadata": {
        "collapsed": true,
        "id": "hiyIq1l8hU1F"
      },
      "source": [
        "# N-Gram\n",
        "def ngram(token, n): \n",
        "    output = []\n",
        "    for i in range(n-1, len(token)): \n",
        "        ngram = ' '.join(token[i-n+1:i+1])\n",
        "        output.append(ngram) \n",
        "    return output"
      ],
      "execution_count": null,
      "outputs": []
    },
    {
      "cell_type": "code",
      "metadata": {
        "collapsed": true,
        "id": "kIaNpzbrhU1F"
      },
      "source": [
        "# Feature creation\n",
        "def create_feature(text, nrange=(1, 1)):\n",
        "    text_features = [] \n",
        "    text = text.lower() \n",
        "\n",
        "    # 1. treat alphanumeric characters as word tokens\n",
        "    # Since tweets contain #, we keep it as a feature\n",
        "    # Then, extract all ngram lengths\n",
        "    text_alphanum = re.sub('[^a-z0-9#]', ' ', text)\n",
        "    for n in range(nrange[0], nrange[1]+1): \n",
        "        text_features += ngram(text_alphanum.split(), n)\n",
        "    \n",
        "    # 2. treat punctuations as word token\n",
        "    text_punc = re.sub('[a-z0-9]', ' ', text)\n",
        "    text_features += ngram(text_punc.split(), 1)\n",
        "    \n",
        "    # 3. Return a dictinaory whose keys are the list of elements \n",
        "    # and their values are the number of times appearede in the list.\n",
        "    return Counter(text_features)"
      ],
      "execution_count": null,
      "outputs": []
    },
    {
      "cell_type": "code",
      "metadata": {
        "colab": {
          "base_uri": "https://localhost:8080/"
        },
        "id": "yWAR6opuhU1G",
        "outputId": "9d7bdab0-3f06-4fda-d8ca-5f8731fe8142"
      },
      "source": [
        "# Few Examples!\n",
        "print(create_feature(\"I love you!\"))\n",
        "print(create_feature(\" Pawan is Good Guy!!!!!!  #Friends\"))\n",
        "print(create_feature(\" Pawan is Good Guy!!!!!!  #Friends\", (1, 2)))"
      ],
      "execution_count": null,
      "outputs": [
        {
          "output_type": "stream",
          "text": [
            "Counter({'i': 1, 'love': 1, 'you': 1, '!': 1})\n",
            "Counter({'pawan': 1, 'is': 1, 'good': 1, 'guy': 1, '#friends': 1, '!!!!!!': 1, '#': 1})\n",
            "Counter({'pawan': 1, 'is': 1, 'good': 1, 'guy': 1, '#friends': 1, 'pawan is': 1, 'is good': 1, 'good guy': 1, 'guy #friends': 1, '!!!!!!': 1, '#': 1})\n"
          ],
          "name": "stdout"
        }
      ]
    },
    {
      "cell_type": "code",
      "metadata": {
        "collapsed": true,
        "id": "y54JsrGihU1I"
      },
      "source": [
        "# Converting them into Labels\n",
        "def convert_label(item, name): \n",
        "    items = list(map(float, item.split()))\n",
        "    label = \"\"\n",
        "    for idx in range(len(items)): \n",
        "        if items[idx] == 1: \n",
        "            label += name[idx] + \" \"\n",
        "    \n",
        "    return label.strip()"
      ],
      "execution_count": null,
      "outputs": []
    },
    {
      "cell_type": "code",
      "metadata": {
        "collapsed": true,
        "id": "vNsQvcDdhU1J"
      },
      "source": [
        "# Appending Emotions Rating\n",
        "emotions = [\"joy\", 'fear', \"anger\", \"sadness\", \"disgust\", \"shame\", \"guilt\"]\n",
        "\n",
        "X_all = []\n",
        "y_all = []\n",
        "for label, text in psychExp_txt:\n",
        "    y_all.append(convert_label(label, emotions))\n",
        "    X_all.append(create_feature(text, nrange=(1, 4)))"
      ],
      "execution_count": null,
      "outputs": []
    },
    {
      "cell_type": "code",
      "metadata": {
        "colab": {
          "base_uri": "https://localhost:8080/"
        },
        "id": "zLKKqkNQhU1K",
        "outputId": "50d47cff-e4b6-4226-a261-5712cf3fa2ed"
      },
      "source": [
        "# Features Example\n",
        "print(\"features example: \")\n",
        "print(X_all[6932])"
      ],
      "execution_count": null,
      "outputs": [
        {
          "output_type": "stream",
          "text": [
            "features example: \n",
            "Counter({'made': 1, 'a': 1, 'mistake': 1, 'at': 1, 'work': 1, 'made a': 1, 'a mistake': 1, 'mistake at': 1, 'at work': 1, 'made a mistake': 1, 'a mistake at': 1, 'mistake at work': 1, 'made a mistake at': 1, 'a mistake at work': 1, '.': 1})\n"
          ],
          "name": "stdout"
        }
      ]
    },
    {
      "cell_type": "code",
      "metadata": {
        "colab": {
          "base_uri": "https://localhost:8080/"
        },
        "id": "TwWNJ4PthU1L",
        "outputId": "87c57561-3dbd-49bf-ef36-59115c5faa77"
      },
      "source": [
        "# Label Example\n",
        "print(\"Label example:\")\n",
        "print(y_all[0])"
      ],
      "execution_count": null,
      "outputs": [
        {
          "output_type": "stream",
          "text": [
            "Label example:\n",
            "joy\n"
          ],
          "name": "stdout"
        }
      ]
    },
    {
      "cell_type": "code",
      "metadata": {
        "collapsed": true,
        "id": "XryDYHryhU1O"
      },
      "source": [
        "# Creaing classifiers\n",
        "from sklearn.model_selection import train_test_split\n",
        "X_train, X_test, y_train, y_test = \\\n",
        "    train_test_split(X_all, y_all, test_size = 0.2, random_state = 123)"
      ],
      "execution_count": null,
      "outputs": []
    },
    {
      "cell_type": "code",
      "metadata": {
        "collapsed": true,
        "id": "jkzjFTMThU1Q"
      },
      "source": [
        "# Convert the labeled features into sparse vectors\n",
        "from sklearn.metrics import accuracy_score\n",
        "\n",
        "def train_test(clf, X_train, X_test, y_train, y_test):\n",
        "    clf.fit(X_train, y_train)\n",
        "    train_acc = accuracy_score(y_train, clf.predict(X_train))\n",
        "    test_acc = accuracy_score(y_test, clf.predict(X_test))\n",
        "    \n",
        "#     print(\"Training acc: {}\".format(train_acc))\n",
        "#     print(\"Test acc    : {}\".format(test_acc))\n",
        "    \n",
        "    return train_acc, test_acc    "
      ],
      "execution_count": null,
      "outputs": []
    },
    {
      "cell_type": "code",
      "metadata": {
        "collapsed": true,
        "id": "e2A2Nw5DhU1S"
      },
      "source": [
        "# Using DictVectorizer\n",
        "from sklearn.feature_extraction import DictVectorizer\n",
        "vectorizer = DictVectorizer(sparse = True)\n",
        "X_train = vectorizer.fit_transform(X_train)\n",
        "X_test = vectorizer.transform(X_test)"
      ],
      "execution_count": null,
      "outputs": []
    },
    {
      "cell_type": "code",
      "metadata": {
        "colab": {
          "base_uri": "https://localhost:8080/"
        },
        "id": "7iortdZfhU1T",
        "outputId": "490aef1c-82c8-4cd3-9e15-8cec42451a07"
      },
      "source": [
        "# Training & Testing Classifiers\n",
        "from sklearn.svm import SVC\n",
        "from sklearn.svm import LinearSVC\n",
        "from sklearn.ensemble import RandomForestClassifier\n",
        "from sklearn.tree import DecisionTreeClassifier\n",
        "\n",
        "# Classifiers \n",
        "svc = SVC()\n",
        "lsvc = LinearSVC(random_state=123)\n",
        "rforest = RandomForestClassifier(random_state=123)\n",
        "dtree = DecisionTreeClassifier()\n",
        "\n",
        "clifs = [svc, lsvc, rforest, dtree]\n",
        "\n",
        "# train and test them \n",
        "print(\"| {:25} | {} | {} |\".format(\"Classifier\", \"Training Accuracy\", \"Test Accuracy\"))\n",
        "print(\"| {} | {} | {} |\".format(\"-\"*25, \"-\"*17, \"-\"*13))\n",
        "for clf in clifs: \n",
        "    clf_name = clf.__class__.__name__\n",
        "    train_acc, test_acc = train_test(clf, X_train, X_test, y_train, y_test)\n",
        "    print(\"| {:25} | {:17.7f} | {:13.7f} |\".format(clf_name, train_acc, test_acc))"
      ],
      "execution_count": null,
      "outputs": [
        {
          "output_type": "stream",
          "text": [
            "| Classifier                | Training Accuracy | Test Accuracy |\n",
            "| ------------------------- | ----------------- | ------------- |\n",
            "| SVC                       |         0.9067513 |     0.4512032 |\n"
          ],
          "name": "stdout"
        },
        {
          "output_type": "stream",
          "text": [
            "/usr/local/lib/python3.7/dist-packages/sklearn/svm/_base.py:947: ConvergenceWarning: Liblinear failed to converge, increase the number of iterations.\n",
            "  \"the number of iterations.\", ConvergenceWarning)\n"
          ],
          "name": "stderr"
        },
        {
          "output_type": "stream",
          "text": [
            "| LinearSVC                 |         0.9988302 |     0.5768717 |\n",
            "| RandomForestClassifier    |         0.9988302 |     0.5541444 |\n",
            "| DecisionTreeClassifier    |         0.9988302 |     0.4565508 |\n"
          ],
          "name": "stdout"
        }
      ]
    },
    {
      "cell_type": "code",
      "metadata": {
        "colab": {
          "base_uri": "https://localhost:8080/"
        },
        "id": "QAy5Po8phU1a",
        "outputId": "56402f0c-ae7a-4530-b15b-ac18fd227325"
      },
      "source": [
        "# Model parameters Tuning\n",
        "from sklearn.model_selection import GridSearchCV\n",
        "\n",
        "parameters = {'C':[1, 2, 3, 5, 10, 15, 20, 30, 50, 70, 100], \n",
        "             'tol':[0.1, 0.01, 0.001, 0.0001, 0.00001]}\n",
        "\n",
        "lsvc = LinearSVC(random_state=123)\n",
        "grid_obj = GridSearchCV(lsvc, param_grid = parameters, cv=5)\n",
        "grid_obj.fit(X_train, y_train)\n",
        "\n",
        "print(\"Validation acc: {}\".format(grid_obj.best_score_))\n",
        "print(\"Training acc: {}\".format(accuracy_score(y_train, grid_obj.predict(X_train))))\n",
        "print(\"Test acc    : {}\".format(accuracy_score(y_test, grid_obj.predict(X_test))))\n",
        "print(\"Best parameter: {}\".format(grid_obj.best_params_))"
      ],
      "execution_count": null,
      "outputs": [
        {
          "output_type": "stream",
          "text": [
            "/usr/local/lib/python3.7/dist-packages/sklearn/svm/_base.py:947: ConvergenceWarning: Liblinear failed to converge, increase the number of iterations.\n",
            "  \"the number of iterations.\", ConvergenceWarning)\n"
          ],
          "name": "stderr"
        },
        {
          "output_type": "stream",
          "text": [
            "Validation acc: 0.5613304442823893\n",
            "Training acc: 0.9988302139037433\n",
            "Test acc    : 0.5768716577540107\n",
            "Best parameter: {'C': 1, 'tol': 0.1}\n"
          ],
          "name": "stdout"
        }
      ]
    },
    {
      "cell_type": "code",
      "metadata": {
        "colab": {
          "base_uri": "https://localhost:8080/"
        },
        "id": "zrbln_yAhU1c",
        "outputId": "2a3be3cc-6beb-41f4-901b-0e6df7516117"
      },
      "source": [
        "# Error Analysis\n",
        "from sklearn.metrics import confusion_matrix\n",
        "matrix = confusion_matrix(y_test, grid_obj.predict(X_test))\n",
        "print(matrix)"
      ],
      "execution_count": null,
      "outputs": [
        {
          "output_type": "stream",
          "text": [
            "[[112  27  16  23  12  19  19]\n",
            " [ 20 113  11  11  12  17   9]\n",
            " [  9  18 157   3  11  16  10]\n",
            " [ 19  12  15 107  12  17  36]\n",
            " [  7   9   7   7 155  18   8]\n",
            " [ 17   9  17  12  21 137  10]\n",
            " [ 31  19  10  30  17  10  82]]\n"
          ],
          "name": "stdout"
        }
      ]
    },
    {
      "cell_type": "code",
      "metadata": {
        "colab": {
          "base_uri": "https://localhost:8080/",
          "height": 428
        },
        "id": "j_f3ANlEhU1d",
        "outputId": "68fe09dc-759d-4736-8cfd-d55ea5b6c4ee"
      },
      "source": [
        "# Heatmap of Emojis\n",
        "%matplotlib inline\n",
        "import seaborn as sn\n",
        "import pandas as pd\n",
        "import matplotlib.pyplot as plt\n",
        "\n",
        "l = [\"joy\", 'fear', \"anger\", \"sadness\", \"disgust\", \"shame\", \"guilt\"]\n",
        "l.sort()\n",
        "df_cm = pd.DataFrame(matrix, index = l, columns = l)\n",
        "plt.figure(figsize = (10,7))\n",
        "sn.heatmap(df_cm, annot=True, fmt=\"d\")\n",
        "plt.show()"
      ],
      "execution_count": null,
      "outputs": [
        {
          "output_type": "display_data",
          "data": {
            "image/png": "[encoded data removed]",
            "text/plain": [
              "<Figure size 720x504 with 2 Axes>"
            ]
          },
          "metadata": {
            "tags": [],
            "needs_background": "light"
          }
        }
      ]
    },
    {
      "cell_type": "code",
      "metadata": {
        "colab": {
          "base_uri": "https://localhost:8080/"
        },
        "id": "G8093mWdhU1g",
        "outputId": "b4b8a8ec-94b2-4bdb-d59e-ed0cd336c47d"
      },
      "source": [
        "# Get counts for each label\n",
        "label_freq = {}\n",
        "for label, _ in psychExp_txt: \n",
        "    label_freq[label] = label_freq.get(label, 0) + 1\n",
        "\n",
        "# print the labels and their counts in sorted order \n",
        "for l in sorted(label_freq, key=label_freq.get, reverse=True):\n",
        "    print(\"{:10}({})  {}\".format(convert_label(l, emotions), l, label_freq[l]))"
      ],
      "execution_count": null,
      "outputs": [
        {
          "output_type": "stream",
          "text": [
            "joy       (1. 0. 0. 0. 0. 0. 0.)  1084\n",
            "anger     (0. 0. 1. 0. 0. 0. 0.)  1080\n",
            "sadness   (0. 0. 0. 1. 0. 0. 0.)  1079\n",
            "fear      (0. 1. 0. 0. 0. 0. 0.)  1078\n",
            "disgust   (0. 0. 0. 0. 1. 0. 0.)  1057\n",
            "guilt     (0. 0. 0. 0. 0. 0. 1.)  1057\n",
            "shame     (0. 0. 0. 0. 0. 1. 0.)  1045\n"
          ],
          "name": "stdout"
        }
      ]
    },
    {
      "cell_type": "code",
      "metadata": {
        "collapsed": true,
        "id": "CwD3cjY_hU1o"
      },
      "source": [
        "#Emoji Dictionary\n",
        "emoji_dict = {\"joy\":\"😂\", \"fear\":\"😱\", \"anger\":\"😠\", \"sadness\":\"😢\", \"disgust\":\"😒\", \"shame\":\"😳\", \"guilt\":\"😳\"}"
      ],
      "execution_count": null,
      "outputs": []
    },
    {
      "cell_type": "code",
      "metadata": {
        "colab": {
          "base_uri": "https://localhost:8080/"
        },
        "id": "GuJUdBpGhU1p",
        "outputId": "141e4088-2295-4c73-8c6a-cc279300bc60"
      },
      "source": [
        "# Prediction\n",
        "t1 = \"Thank you for dinner!\"\n",
        "t2 = \"I don't like it\"\n",
        "t3 = \"My car skidded on the wet street\"\n",
        "t4 = \"My cat died\"\n",
        "\n",
        "texts = [t1, t2, t3, t4]\n",
        "for text in texts: \n",
        "    features = create_feature(text, nrange=(1, 4))\n",
        "    features = vectorizer.transform(features)\n",
        "    prediction = grid_obj.predict(features)[0]\n",
        "    print(\"{} {}\".format(emoji_dict[prediction], text))"
      ],
      "execution_count": null,
      "outputs": [
        {
          "output_type": "stream",
          "text": [
            "😂 Thank you for dinner!\n",
            "😢 I don't like it\n",
            "😱 My car skidded on the wet street\n",
            "😢 My cat died\n"
          ],
          "name": "stdout"
        }
      ]
    }
  ]
}