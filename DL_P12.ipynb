{
  "nbformat": 4,
  "nbformat_minor": 0,
  "metadata": {
    "kernelspec": {
      "display_name": "Python 3",
      "language": "python",
      "name": "python3"
    },
    "language_info": {
      "codemirror_mode": {
        "name": "ipython",
        "version": 3
      },
      "file_extension": ".py",
      "mimetype": "text/x-python",
      "name": "python",
      "nbconvert_exporter": "python",
      "pygments_lexer": "ipython3",
      "version": "3.6.4"
    },
    "colab": {
      "provenance": [],
      "collapsed_sections": []
    }
  },
  "cells": [
    {
      "cell_type": "code",
      "metadata": {
        "colab": {
          "base_uri": "https://localhost:8080/"
        },
        "id": "9mM4-yuPpErG",
        "outputId": "18202d31-9b89-471e-c39f-aebfc08af726"
      },
      "source": [
        "# Import Dataset\n",
        "# Import File from Loacal Drive\n",
        "# from google.colab import files\n",
        "# data_to_load = files.upload()\n",
        "from google.colab import drive\n",
        "drive.mount('/content/drive')"
      ],
      "execution_count": null,
      "outputs": [
        {
          "output_type": "stream",
          "text": [
            "Mounted at /content/drive\n"
          ],
          "name": "stdout"
        }
      ]
    },
    {
      "cell_type": "code",
      "metadata": {
        "id": "HLeG7EIm1j6i"
      },
      "source": [
        "# File Extraction from zip\n",
        "path = '/content/drive/MyDrive/Files/brainmri'\n",
        "\n",
        "#import zipfile\n",
        "#with zipfile.ZipFile('/content/drive/MyDrive/Files/brainmri.zip', 'r') as zip_ref:\n",
        "#    zip_ref.extractall('/content/drive/MyDrive/Files/brainmri')"
      ],
      "execution_count": null,
      "outputs": []
    },
    {
      "cell_type": "code",
      "metadata": {
        "colab": {
          "base_uri": "https://localhost:8080/"
        },
        "id": "4a5r6ksH_FC7",
        "outputId": "233efe8f-d28e-4d19-8958-ecdf13054249"
      },
      "source": [
        "# installing Files\n",
        "# !pip install umap"
      ],
      "execution_count": null,
      "outputs": [
        {
          "output_type": "stream",
          "text": [
            "Collecting umap\n",
            "  Downloading https://files.pythonhosted.org/packages/4b/46/08ab68936625400fe690684428d4db4764f49b406782cc133df1d0299d06/umap-0.1.1.tar.gz\n",
            "Building wheels for collected packages: umap\n",
            "  Building wheel for umap (setup.py) ... \u001b[?25l\u001b[?25hdone\n",
            "  Created wheel for umap: filename=umap-0.1.1-cp37-none-any.whl size=3568 sha256=ee0f135a99e6f9261b0d22b86b3a4e9f17b5094bbdac8364ebe9590f2b980d94\n",
            "  Stored in directory: /root/.cache/pip/wheels/7b/29/33/b4d917dc95f69c0a060e2ab012d95e15db9ed4cc0b94ccac26\n",
            "Successfully built umap\n",
            "Installing collected packages: umap\n",
            "Successfully installed umap-0.1.1\n"
          ],
          "name": "stdout"
        }
      ]
    },
    {
      "cell_type": "code",
      "metadata": {
        "_cell_guid": "b1076dfc-b9ad-4769-8c92-a6c4dae69d19",
        "_uuid": "8f2839f25d086af736a60e9eeb907d3b93b6e0e5",
        "id": "0OPoYkkG8lkA"
      },
      "source": [
        "# Importing Libraries\n",
        "import numpy as np # linear algebra\n",
        "import pandas as pd # data processing, CSV file I/O (e.g. pd.read_csv)\n",
        "import math\n",
        "import cv2\n",
        "import matplotlib.pyplot as plt\n",
        "import os\n",
        "import seaborn as sns\n",
        "import umap\n",
        "from PIL import Image\n",
        "from scipy import misc\n",
        "from os import listdir\n",
        "from os.path import isfile, join\n",
        "import numpy as np\n",
        "from scipy import misc\n",
        "from random import shuffle\n",
        "from collections import Counter\n",
        "import matplotlib.pyplot as plt\n",
        "from sklearn.decomposition import PCA\n",
        "from sklearn.manifold import TSNE\n",
        "import tensorflow as tf\n",
        "from keras.models import Sequential\n",
        "from keras.layers import Conv2D, MaxPooling2D\n",
        "from keras.layers import Activation, Dropout, Flatten, Dense\n",
        "from keras.utils.np_utils import to_categorical"
      ],
      "execution_count": null,
      "outputs": []
    },
    {
      "cell_type": "code",
      "metadata": {
        "_cell_guid": "79c7e3d0-c299-4dcb-8224-4455121ee9b0",
        "_uuid": "d629ff2d2480ee46fbb7e2d37f6b5fab8052498a",
        "colab": {
          "base_uri": "https://localhost:8080/"
        },
        "id": "u-yiADWd8lkh",
        "outputId": "94935e08-6e9f-47df-abe3-0e411c8d3e81"
      },
      "source": [
        "# Checking whether we are in correct Directory\n",
        "os.listdir(path + '/brain_tumor_dataset')"
      ],
      "execution_count": null,
      "outputs": [
        {
          "output_type": "execute_result",
          "data": {
            "text/plain": [
              "['yes', 'no']"
            ]
          },
          "metadata": {
            "tags": []
          },
          "execution_count": 9
        }
      ]
    },
    {
      "cell_type": "code",
      "metadata": {
        "colab": {
          "base_uri": "https://localhost:8080/",
          "height": 196
        },
        "id": "yuogsHvC8lkk",
        "outputId": "0c6b4eeb-7da7-4eac-d960-ff2cd7839dc8"
      },
      "source": [
        "# One Example of Not Tumor MRI\n",
        "im_no = Image.open(path + '/brain_tumor_dataset/no/1 no.jpeg').resize((128, 128))\n",
        "print(\"\\nThis is not a Tumor : \\n\")\n",
        "im_no"
      ],
      "execution_count": null,
      "outputs": [
        {
          "output_type": "stream",
          "text": [
            "\n",
            "This is not a Tumor : \n",
            "\n"
          ],
          "name": "stdout"
        },
        {
          "output_type": "execute_result",
          "data": {
            "image/png": "[encoded data removed]",
            "text/plain": [
              "<PIL.Image.Image image mode=L size=128x128 at 0x7F2C11503410>"
            ]
          },
          "metadata": {
            "tags": []
          },
          "execution_count": 15
        }
      ]
    },
    {
      "cell_type": "code",
      "metadata": {
        "colab": {
          "base_uri": "https://localhost:8080/",
          "height": 196
        },
        "id": "D9WeAdz-8lkm",
        "outputId": "02f66b88-1672-47e8-f1b0-b4fb9f1f84d1"
      },
      "source": [
        "# One Example of Tumor MRI\n",
        "im_yes = Image.open(path + '/brain_tumor_dataset/yes/Y1.jpg').resize((128, 128))\n",
        "print(\"\\nThis is a Tumor : \\n\")\n",
        "im_yes"
      ],
      "execution_count": null,
      "outputs": [
        {
          "output_type": "stream",
          "text": [
            "\n",
            "This is a Tumor : \n",
            "\n"
          ],
          "name": "stdout"
        },
        {
          "output_type": "execute_result",
          "data": {
            "image/png": "[encoded data removed]",
            "text/plain": [
              "<PIL.Image.Image image mode=RGB size=128x128 at 0x7F2C1147CA10>"
            ]
          },
          "metadata": {
            "tags": []
          },
          "execution_count": 16
        }
      ]
    },
    {
      "cell_type": "code",
      "metadata": {
        "id": "UTEKlQ0A8lkn"
      },
      "source": [
        "# Assigning Directories\n",
        "yes = os.listdir(path + '/brain_tumor_dataset/yes')\n",
        "no = os.listdir(path + '/brain_tumor_dataset/no')"
      ],
      "execution_count": null,
      "outputs": []
    },
    {
      "cell_type": "code",
      "metadata": {
        "colab": {
          "base_uri": "https://localhost:8080/"
        },
        "id": "0SostOwb8lkp",
        "outputId": "59c4a6da-3d36-4f2a-f83e-74b7b6466e0f"
      },
      "source": [
        "# Combining data for Both Directories in one and verifying\n",
        "data = np.concatenate([yes, no])\n",
        "print(\"Is Data Successfully merged ? : \", len(data) == len(yes) + len(no))"
      ],
      "execution_count": null,
      "outputs": [
        {
          "output_type": "stream",
          "text": [
            "Is Data Successfully merged ? :  True\n"
          ],
          "name": "stdout"
        }
      ]
    },
    {
      "cell_type": "code",
      "metadata": {
        "colab": {
          "base_uri": "https://localhost:8080/"
        },
        "id": "IJ46q5hiEM0s",
        "outputId": "a377c07d-1967-41cc-b18e-70807c80af7a"
      },
      "source": [
        "print(\"\\nThis is Data : \\n\")\n",
        "data"
      ],
      "execution_count": null,
      "outputs": [
        {
          "output_type": "stream",
          "text": [
            "\n",
            "This is Data : \n",
            "\n"
          ],
          "name": "stdout"
        },
        {
          "output_type": "execute_result",
          "data": {
            "text/plain": [
              "array(['Y195.JPG', 'Y28.jpg', 'Y19.JPG', 'Y192.JPG', 'Y65.JPG', 'Y27.jpg',\n",
              "       'Y252.jpg', 'Y249.JPG', 'Y90.jpg', 'Y21.jpg', 'Y38.jpg',\n",
              "       'Y157.JPG', 'Y245.jpg', 'Y77.jpg', 'Y3.jpg', 'Y105.jpg',\n",
              "       'Y169.jpg', 'Y18.JPG', 'Y253.JPG', 'Y180.jpg', 'Y54.jpg',\n",
              "       'Y243.JPG', 'Y120.JPG', 'Y193.JPG', 'Y166.JPG', 'Y6.jpg',\n",
              "       'Y116.JPG', 'Y10.jpg', 'Y53.jpg', 'Y67.JPG', 'Y7.jpg', 'Y164.JPG',\n",
              "       'Y75.JPG', 'Y107.jpg', 'Y44.JPG', 'Y183.jpg', 'Y60.jpg', 'Y26.jpg',\n",
              "       'Y11.jpg', 'Y257.jpg', 'Y51.jpg', 'Y194.jpg', 'Y45.JPG', 'Y73.jpg',\n",
              "       'Y31.jpg', 'Y147.JPG', 'Y254.jpg', 'Y86.JPG', 'Y167.JPG',\n",
              "       'Y246.JPG', 'Y153.jpg', 'Y98.JPG', 'Y250.jpg', 'Y41.jpg',\n",
              "       'Y258.JPG', 'Y113.JPG', 'Y76.jpg', 'Y186.jpg', 'Y50.JPG',\n",
              "       'Y117.JPG', 'Y92.png', 'Y58.JPG', 'Y61.jpg', 'Y165.JPG', 'Y74.jpg',\n",
              "       'Y34.jpg', 'Y96.jpg', 'Y111.JPG', 'Y70.jpg', 'Y168.jpg', 'Y12.jpg',\n",
              "       'Y159.JPG', 'Y66.JPG', 'Y112.JPG', 'Y255.JPG', 'Y182.JPG',\n",
              "       'Y85.JPG', 'Y89.JPG', 'Y62.jpg', 'Y91.jpg', 'Y103.jpg', 'Y148.JPG',\n",
              "       'Y8.jpg', 'Y188.jpg', 'Y47.JPG', 'Y39.jpg', 'Y59.JPG', 'Y244.JPG',\n",
              "       'Y32.jpg', 'Y181.jpg', 'Y158.JPG', 'Y101.jpg', 'Y97.JPG',\n",
              "       'Y79.jpg', 'Y29.jpg', 'Y154.jpg', 'Y82.jpg', 'Y55.jpg', 'Y242.JPG',\n",
              "       'Y52.jpg', 'Y1.jpg', 'Y163.JPG', 'Y35.jpg', 'Y33.jpg', 'Y114.JPG',\n",
              "       'Y24.jpg', 'Y23.JPG', 'Y104.jpg', 'Y170.JPG', 'Y14.jpg', 'Y71.JPG',\n",
              "       'Y115.JPG', 'Y4.jpg', 'Y2.jpg', 'Y256.JPG', 'Y16.JPG', 'Y81.jpg',\n",
              "       'Y187.jpg', 'Y156.JPG', 'Y49.JPG', 'Y259.JPG', 'Y100.JPG',\n",
              "       'Y160.JPG', 'Y146.JPG', 'Y17.jpg', 'Y99.JPG', 'Y102.jpg',\n",
              "       'Y184.JPG', 'Y109.JPG', 'Y15.jpg', 'Y248.JPG', 'Y56.jpg',\n",
              "       'Y161.JPG', 'Y46.jpg', 'Y185.jpg', 'Y9.jpg', 'Y108.jpg',\n",
              "       'Y251.JPG', 'Y247.JPG', 'Y155.JPG', 'Y106.jpg', 'Y36.JPG',\n",
              "       'Y20.jpg', 'Y42.jpg', 'Y40.JPG', 'Y25.jpg', 'Y162.jpg', 'Y30.jpg',\n",
              "       'Y92.jpg', 'Y13.jpg', 'Y69.jpg', 'Y37.jpg', 'Y22.jpg', 'Y95.jpg',\n",
              "       'Y78.jpg', '11 no.jpg', '10 no.jpg', '1 no.jpeg', '50 no.jpg',\n",
              "       '3 no.jpg', '40 no.jpg', '12 no.jpg', '29 no.jpg', '25 no.jpg',\n",
              "       '19 no.jpg', '34 no.jpg', '32 no.jpg', '23 no.jpg', '31 no.jpg',\n",
              "       '20 no.jpg', '46 no.jpg', '35 no.jpg', 'N19.JPG', '33 no.jpg',\n",
              "       'N2.JPG', '22 no.jpg', '14 no.jpg', '30 no.jpg', '21 no.jpg',\n",
              "       '15 no.jpg', '39 no.jpg', '7 no.jpg', '44no.jpg', '43 no.jpg',\n",
              "       '4 no.jpg', '37 no.jpg', '36 no.jpg', '8 no.jpg', '6 no.jpg',\n",
              "       '5 no.jpg', '48 no.jpeg', '26 no.jpg', 'N21.jpg', '28 no.jpg',\n",
              "       '49 no.jpg', '42 no.jpg', '41 no.jpg', 'N11.jpg', 'N1.JPG',\n",
              "       'N22.JPG', '17 no.jpg', '18 no.jpg', '24 no.jpg', '47 no.jpg',\n",
              "       '45 no.jpg', '13 no.jpg', 'N15.jpg', '38 no.jpg', '9 no.jpg',\n",
              "       'N16.jpg', 'N17.jpg', '27 no.jpg', 'N20.JPG', '2 no.jpeg',\n",
              "       'N6.jpg', 'no 1.jpg', 'no 3.jpg', 'no.jpg', 'No17.jpg', 'no 6.jpg',\n",
              "       'no 92.jpg', 'no 100.jpg', 'no 94.jpg', 'No21.jpg', 'No18.jpg',\n",
              "       'N26.JPG', 'no 90.jpg', 'no 98.jpg', 'no 89.jpg', 'No22.jpg',\n",
              "       'no 10.jpg', 'No12.jpg', 'no 91.jpeg', 'No13.jpg', 'no 97.jpg',\n",
              "       'No15.jpg', 'No19.jpg', 'No11.jpg', 'no 9.png', 'N5.jpg',\n",
              "       'no 8.jpg', 'No16.jpg', 'no 95.jpg', 'no 4.jpg', 'no 96.jpg',\n",
              "       'No20.jpg', 'no 2.jpg', 'no 5.jpeg', 'no 99.jpg', 'no 923.jpg',\n",
              "       'No14.jpg', 'no 7.jpeg', 'N3.jpg'], dtype='<U10')"
            ]
          },
          "metadata": {
            "tags": []
          },
          "execution_count": 23
        }
      ]
    },
    {
      "cell_type": "code",
      "metadata": {
        "colab": {
          "base_uri": "https://localhost:8080/"
        },
        "id": "lm9TXRRl8lkq",
        "outputId": "e46f50a9-4551-45c1-da6f-57613e9940f6"
      },
      "source": [
        "# Assigning Values for data as either 0 for No and 1 for Yes and Merging them\n",
        "target_x = np.full(len(yes), 1)\n",
        "target_y = np.full(len(no), 0)\n",
        "data_target = np.concatenate([target_x, target_y])\n",
        "print(\"Is Target Data Successfully merged after Assigning Values ? : \", len(data_target) == len(target_x) + len(target_y))"
      ],
      "execution_count": null,
      "outputs": [
        {
          "output_type": "stream",
          "text": [
            "Is Target Data Successfully merged after Assigning Values ? :  True\n"
          ],
          "name": "stdout"
        }
      ]
    },
    {
      "cell_type": "code",
      "metadata": {
        "colab": {
          "base_uri": "https://localhost:8080/"
        },
        "id": "Tqe1v-iUEbBM",
        "outputId": "5a068d23-52dc-412d-888a-c06e3742f33f"
      },
      "source": [
        "print(\"\\nThis is Target Data : \\n\")\n",
        "data_target"
      ],
      "execution_count": null,
      "outputs": [
        {
          "output_type": "stream",
          "text": [
            "\n",
            "This is Target Data : \n",
            "\n"
          ],
          "name": "stdout"
        },
        {
          "output_type": "execute_result",
          "data": {
            "text/plain": [
              "array([1, 1, 1, 1, 1, 1, 1, 1, 1, 1, 1, 1, 1, 1, 1, 1, 1, 1, 1, 1, 1, 1,\n",
              "       1, 1, 1, 1, 1, 1, 1, 1, 1, 1, 1, 1, 1, 1, 1, 1, 1, 1, 1, 1, 1, 1,\n",
              "       1, 1, 1, 1, 1, 1, 1, 1, 1, 1, 1, 1, 1, 1, 1, 1, 1, 1, 1, 1, 1, 1,\n",
              "       1, 1, 1, 1, 1, 1, 1, 1, 1, 1, 1, 1, 1, 1, 1, 1, 1, 1, 1, 1, 1, 1,\n",
              "       1, 1, 1, 1, 1, 1, 1, 1, 1, 1, 1, 1, 1, 1, 1, 1, 1, 1, 1, 1, 1, 1,\n",
              "       1, 1, 1, 1, 1, 1, 1, 1, 1, 1, 1, 1, 1, 1, 1, 1, 1, 1, 1, 1, 1, 1,\n",
              "       1, 1, 1, 1, 1, 1, 1, 1, 1, 1, 1, 1, 1, 1, 1, 1, 1, 1, 1, 1, 1, 1,\n",
              "       1, 0, 0, 0, 0, 0, 0, 0, 0, 0, 0, 0, 0, 0, 0, 0, 0, 0, 0, 0, 0, 0,\n",
              "       0, 0, 0, 0, 0, 0, 0, 0, 0, 0, 0, 0, 0, 0, 0, 0, 0, 0, 0, 0, 0, 0,\n",
              "       0, 0, 0, 0, 0, 0, 0, 0, 0, 0, 0, 0, 0, 0, 0, 0, 0, 0, 0, 0, 0, 0,\n",
              "       0, 0, 0, 0, 0, 0, 0, 0, 0, 0, 0, 0, 0, 0, 0, 0, 0, 0, 0, 0, 0, 0,\n",
              "       0, 0, 0, 0, 0, 0, 0, 0, 0, 0, 0])"
            ]
          },
          "metadata": {
            "tags": []
          },
          "execution_count": 24
        }
      ]
    },
    {
      "cell_type": "code",
      "metadata": {
        "colab": {
          "base_uri": "https://localhost:8080/"
        },
        "id": "4eSH-nbYEizM",
        "outputId": "37d9dc54-79ba-4a7b-e2f2-8b8d76ab474c"
      },
      "source": [
        "print(\"Does Data & Target Data have Equal Entries? : \", len(data_target) == len(data))"
      ],
      "execution_count": null,
      "outputs": [
        {
          "output_type": "stream",
          "text": [
            "Does Data & Target Data have Equal Entries? :  True\n"
          ],
          "name": "stdout"
        }
      ]
    },
    {
      "cell_type": "code",
      "metadata": {
        "id": "1Rc2YTEq8lkx"
      },
      "source": [
        "# Assigning Directories for Values\n",
        "yes_values = os.listdir(path + '/brain_tumor_dataset/yes')\n",
        "no_values = os.listdir(path + '/brain_tumor_dataset/no')"
      ],
      "execution_count": null,
      "outputs": []
    },
    {
      "cell_type": "code",
      "metadata": {
        "id": "JuPfLwka8lky"
      },
      "source": [
        "X_data = []\n",
        "for file in yes_values:\n",
        "    #face = misc.imread(path + '/brain_tumor_dataset/yes/'+ file)\n",
        "    img = cv2.imread(path + '/brain_tumor_dataset/yes/'+ file)\n",
        "    face = cv2.resize(img, (32, 32))\n",
        "    (b, g, r) = cv2.split(face) \n",
        "    img = cv2.merge([r, g, b])\n",
        "    X_data.append(img)"
      ],
      "execution_count": null,
      "outputs": []
    },
    {
      "cell_type": "code",
      "metadata": {
        "id": "BlwUW9UE8lkz"
      },
      "source": [
        "#X_data = []\n",
        "for file in no_values:\n",
        "    #face = misc.imread(path + '/brain_tumor_dataset/no/'+ file)\n",
        "    img = cv2.imread(path + '/brain_tumor_dataset/no/'+ file)\n",
        "    face = cv2.resize(img, (32, 32))\n",
        "    (b, g, r) = cv2.split(face) \n",
        "    img = cv2.merge([r, g, b])\n",
        "    X_data.append(img)"
      ],
      "execution_count": null,
      "outputs": []
    },
    {
      "cell_type": "code",
      "metadata": {
        "colab": {
          "base_uri": "https://localhost:8080/"
        },
        "id": "geL_7dx_8lk0",
        "outputId": "193e3cb5-36d8-4217-bb48-8c9e0d831e7f"
      },
      "source": [
        "print(\"Does Data & Target Data & new X_Data Array have Equal Entries? : \", len(X_data) == len(data) == len(data_target))"
      ],
      "execution_count": null,
      "outputs": [
        {
          "output_type": "stream",
          "text": [
            "Does Data & Target Data & new X_Data Array have Equal Entries? :  True\n"
          ],
          "name": "stdout"
        }
      ]
    },
    {
      "cell_type": "code",
      "metadata": {
        "colab": {
          "base_uri": "https://localhost:8080/"
        },
        "id": "F7RdR39Z8lk2",
        "outputId": "fd2ede54-dd1c-4f09-d08f-b7fdc0f11688"
      },
      "source": [
        "# Assigning All data to X\n",
        "X = np.squeeze(X_data)\n",
        "\n",
        "# Dimentions of X\n",
        "print('Dimentions of X : ', X.shape)"
      ],
      "execution_count": null,
      "outputs": [
        {
          "output_type": "stream",
          "text": [
            "Dimentions of X :  (253, 32, 32, 3)\n"
          ],
          "name": "stdout"
        }
      ]
    },
    {
      "cell_type": "code",
      "metadata": {
        "id": "RSrJytfV8lk4"
      },
      "source": [
        "# normalize data\n",
        "X = X.astype('float32')\n",
        "X /= 255"
      ],
      "execution_count": null,
      "outputs": []
    },
    {
      "cell_type": "code",
      "metadata": {
        "id": "B96UEFJk8lk5"
      },
      "source": [
        "# categorical_labels = to_categorical(data_target, num_classes=2)"
      ],
      "execution_count": null,
      "outputs": []
    },
    {
      "cell_type": "code",
      "metadata": {
        "id": "Hkcd-1w18lk8"
      },
      "source": [
        "(x_train, y_train), (x_test, y_test) = (X[:190], data_target[:190]) , (X[190:] , data_target[190:])\n",
        "(x_valid , y_valid) = (x_test[:63], y_test[:63])\n",
        "#(x_test, y_test) = (x_test[63:], y_test[63:])"
      ],
      "execution_count": null,
      "outputs": []
    },
    {
      "cell_type": "code",
      "metadata": {
        "colab": {
          "base_uri": "https://localhost:8080/"
        },
        "id": "NMpjjAP-8lk-",
        "outputId": "8ddfe699-2b56-4519-e861-ff17ac4f1b6a"
      },
      "source": [
        "#CNN Model Training\n",
        "model = tf.keras.Sequential()\n",
        "\n",
        "# Must define the input shape in the first layer of the neural network\n",
        "model.add(tf.keras.layers.Conv2D(filters = 16, kernel_size = 9, padding = 'same', activation = 'relu', input_shape = (32, 32, 3))) \n",
        "model.add(tf.keras.layers.MaxPooling2D(pool_size = 2))\n",
        "model.add(tf.keras.layers.Dropout(0.45))\n",
        "\n",
        "model.add(tf.keras.layers.Conv2D(filters = 16, kernel_size = 9, padding = 'same', activation = 'relu'))\n",
        "model.add(tf.keras.layers.MaxPooling2D(pool_size = 2))\n",
        "model.add(tf.keras.layers.Dropout(0.25))\n",
        "\n",
        "model.add(tf.keras.layers.Conv2D(filters = 36, kernel_size = 9, padding = 'same', activation = 'relu'))\n",
        "model.add(tf.keras.layers.MaxPooling2D(pool_size = 2))\n",
        "model.add(tf.keras.layers.Dropout(0.25))\n",
        "\n",
        "model.add(tf.keras.layers.Flatten())\n",
        "\n",
        "model.add(tf.keras.layers.Dense(512, activation = 'relu'))\n",
        "model.add(tf.keras.layers.Dropout(0.15))\n",
        "\n",
        "\n",
        "model.add(tf.keras.layers.Dense(1, activation = 'sigmoid'))\n",
        "\n",
        "# Take a look at the model summary\n",
        "model.summary()"
      ],
      "execution_count": null,
      "outputs": [
        {
          "output_type": "stream",
          "text": [
            "Model: \"sequential\"\n",
            "_________________________________________________________________\n",
            "Layer (type)                 Output Shape              Param #   \n",
            "=================================================================\n",
            "conv2d (Conv2D)              (None, 32, 32, 16)        3904      \n",
            "_________________________________________________________________\n",
            "max_pooling2d (MaxPooling2D) (None, 16, 16, 16)        0         \n",
            "_________________________________________________________________\n",
            "dropout (Dropout)            (None, 16, 16, 16)        0         \n",
            "_________________________________________________________________\n",
            "conv2d_1 (Conv2D)            (None, 16, 16, 16)        20752     \n",
            "_________________________________________________________________\n",
            "max_pooling2d_1 (MaxPooling2 (None, 8, 8, 16)          0         \n",
            "_________________________________________________________________\n",
            "dropout_1 (Dropout)          (None, 8, 8, 16)          0         \n",
            "_________________________________________________________________\n",
            "conv2d_2 (Conv2D)            (None, 8, 8, 36)          46692     \n",
            "_________________________________________________________________\n",
            "max_pooling2d_2 (MaxPooling2 (None, 4, 4, 36)          0         \n",
            "_________________________________________________________________\n",
            "dropout_2 (Dropout)          (None, 4, 4, 36)          0         \n",
            "_________________________________________________________________\n",
            "flatten (Flatten)            (None, 576)               0         \n",
            "_________________________________________________________________\n",
            "dense (Dense)                (None, 512)               295424    \n",
            "_________________________________________________________________\n",
            "dropout_3 (Dropout)          (None, 512)               0         \n",
            "_________________________________________________________________\n",
            "dense_1 (Dense)              (None, 1)                 513       \n",
            "=================================================================\n",
            "Total params: 367,285\n",
            "Trainable params: 367,285\n",
            "Non-trainable params: 0\n",
            "_________________________________________________________________\n"
          ],
          "name": "stdout"
        }
      ]
    },
    {
      "cell_type": "code",
      "metadata": {
        "id": "OIqBVkvl8llA"
      },
      "source": [
        "# Compiling Model\n",
        "model.compile(loss = 'binary_crossentropy', optimizer = tf.keras.optimizers.Adam(), metrics = ['acc'])"
      ],
      "execution_count": null,
      "outputs": []
    },
    {
      "cell_type": "code",
      "metadata": {
        "colab": {
          "base_uri": "https://localhost:8080/"
        },
        "id": "Kj7_D7uH8llB",
        "outputId": "d2b583ce-3b0a-4c37-b6c5-325bf00f2d5a"
      },
      "source": [
        "model.fit(x_train, y_train, batch_size = 128, epochs = 150, validation_data = (x_valid, y_valid))"
      ],
      "execution_count": null,
      "outputs": [
        {
          "output_type": "stream",
          "text": [
            "Epoch 1/150\n",
            "2/2 [==============================] - 2s 651ms/step - loss: 0.6198 - acc: 0.5868 - val_loss: 2.7150 - val_acc: 0.0000e+00\n",
            "Epoch 2/150\n",
            "2/2 [==============================] - 1s 385ms/step - loss: 0.7139 - acc: 0.8225 - val_loss: 0.9990 - val_acc: 0.0000e+00\n",
            "Epoch 3/150\n",
            "2/2 [==============================] - 1s 394ms/step - loss: 0.4747 - acc: 0.8277 - val_loss: 0.7934 - val_acc: 0.0000e+00\n",
            "Epoch 4/150\n",
            "2/2 [==============================] - 1s 391ms/step - loss: 0.5737 - acc: 0.8173 - val_loss: 0.7886 - val_acc: 0.0000e+00\n",
            "Epoch 5/150\n",
            "2/2 [==============================] - 1s 396ms/step - loss: 0.5769 - acc: 0.8095 - val_loss: 0.8499 - val_acc: 0.0000e+00\n",
            "Epoch 6/150\n",
            "2/2 [==============================] - 1s 398ms/step - loss: 0.5304 - acc: 0.8147 - val_loss: 1.0429 - val_acc: 0.0000e+00\n",
            "Epoch 7/150\n",
            "2/2 [==============================] - 1s 404ms/step - loss: 0.4635 - acc: 0.8173 - val_loss: 1.4826 - val_acc: 0.0000e+00\n",
            "Epoch 8/150\n",
            "2/2 [==============================] - 1s 399ms/step - loss: 0.4985 - acc: 0.8043 - val_loss: 1.6370 - val_acc: 0.0000e+00\n",
            "Epoch 9/150\n",
            "2/2 [==============================] - 1s 389ms/step - loss: 0.4874 - acc: 0.8225 - val_loss: 1.3304 - val_acc: 0.0000e+00\n",
            "Epoch 10/150\n",
            "2/2 [==============================] - 1s 381ms/step - loss: 0.4724 - acc: 0.8121 - val_loss: 1.0435 - val_acc: 0.0000e+00\n",
            "Epoch 11/150\n",
            "2/2 [==============================] - 1s 380ms/step - loss: 0.4619 - acc: 0.8251 - val_loss: 0.9627 - val_acc: 0.0000e+00\n",
            "Epoch 12/150\n",
            "2/2 [==============================] - 1s 388ms/step - loss: 0.4743 - acc: 0.8303 - val_loss: 0.9716 - val_acc: 0.0000e+00\n",
            "Epoch 13/150\n",
            "2/2 [==============================] - 1s 403ms/step - loss: 0.4803 - acc: 0.8147 - val_loss: 1.0522 - val_acc: 0.0000e+00\n",
            "Epoch 14/150\n",
            "2/2 [==============================] - 1s 386ms/step - loss: 0.4716 - acc: 0.8043 - val_loss: 1.2333 - val_acc: 0.0000e+00\n",
            "Epoch 15/150\n",
            "2/2 [==============================] - 1s 388ms/step - loss: 0.4731 - acc: 0.8069 - val_loss: 1.4180 - val_acc: 0.0000e+00\n",
            "Epoch 16/150\n",
            "2/2 [==============================] - 1s 385ms/step - loss: 0.4589 - acc: 0.8199 - val_loss: 1.3669 - val_acc: 0.0000e+00\n",
            "Epoch 17/150\n",
            "2/2 [==============================] - 1s 387ms/step - loss: 0.4534 - acc: 0.8199 - val_loss: 1.1290 - val_acc: 0.0000e+00\n",
            "Epoch 18/150\n",
            "2/2 [==============================] - 1s 386ms/step - loss: 0.4373 - acc: 0.8199 - val_loss: 0.9909 - val_acc: 0.0000e+00\n",
            "Epoch 19/150\n",
            "2/2 [==============================] - 1s 392ms/step - loss: 0.4704 - acc: 0.8069 - val_loss: 0.9683 - val_acc: 0.0000e+00\n",
            "Epoch 20/150\n",
            "2/2 [==============================] - 1s 385ms/step - loss: 0.4579 - acc: 0.8225 - val_loss: 1.0504 - val_acc: 0.0000e+00\n",
            "Epoch 21/150\n",
            "2/2 [==============================] - 1s 387ms/step - loss: 0.4503 - acc: 0.8095 - val_loss: 1.1883 - val_acc: 0.0000e+00\n",
            "Epoch 22/150\n",
            "2/2 [==============================] - 1s 396ms/step - loss: 0.4353 - acc: 0.8199 - val_loss: 1.2685 - val_acc: 0.0000e+00\n",
            "Epoch 23/150\n",
            "2/2 [==============================] - 1s 388ms/step - loss: 0.4330 - acc: 0.8225 - val_loss: 1.1318 - val_acc: 0.0000e+00\n",
            "Epoch 24/150\n",
            "2/2 [==============================] - 1s 386ms/step - loss: 0.4483 - acc: 0.8121 - val_loss: 0.9689 - val_acc: 0.0000e+00\n",
            "Epoch 25/150\n",
            "2/2 [==============================] - 1s 377ms/step - loss: 0.4279 - acc: 0.8199 - val_loss: 0.9788 - val_acc: 0.0000e+00\n",
            "Epoch 26/150\n",
            "2/2 [==============================] - 1s 387ms/step - loss: 0.4284 - acc: 0.8095 - val_loss: 1.1019 - val_acc: 0.0000e+00\n",
            "Epoch 27/150\n",
            "2/2 [==============================] - 1s 387ms/step - loss: 0.4192 - acc: 0.8173 - val_loss: 1.2432 - val_acc: 0.0000e+00\n",
            "Epoch 28/150\n",
            "2/2 [==============================] - 1s 390ms/step - loss: 0.4259 - acc: 0.8095 - val_loss: 1.1357 - val_acc: 0.0159\n",
            "Epoch 29/150\n",
            "2/2 [==============================] - 1s 383ms/step - loss: 0.4309 - acc: 0.8095 - val_loss: 0.9708 - val_acc: 0.1587\n",
            "Epoch 30/150\n",
            "2/2 [==============================] - 1s 389ms/step - loss: 0.4130 - acc: 0.8217 - val_loss: 1.0077 - val_acc: 0.1587\n",
            "Epoch 31/150\n",
            "2/2 [==============================] - 1s 389ms/step - loss: 0.3894 - acc: 0.8365 - val_loss: 1.1525 - val_acc: 0.1429\n",
            "Epoch 32/150\n",
            "2/2 [==============================] - 1s 386ms/step - loss: 0.3918 - acc: 0.8234 - val_loss: 1.1555 - val_acc: 0.1429\n",
            "Epoch 33/150\n",
            "2/2 [==============================] - 1s 388ms/step - loss: 0.3936 - acc: 0.8417 - val_loss: 1.0198 - val_acc: 0.2063\n",
            "Epoch 34/150\n",
            "2/2 [==============================] - 1s 400ms/step - loss: 0.3892 - acc: 0.8479 - val_loss: 0.9413 - val_acc: 0.3016\n",
            "Epoch 35/150\n",
            "2/2 [==============================] - 1s 405ms/step - loss: 0.3964 - acc: 0.8680 - val_loss: 1.0000 - val_acc: 0.3016\n",
            "Epoch 36/150\n",
            "2/2 [==============================] - 1s 405ms/step - loss: 0.3775 - acc: 0.8627 - val_loss: 1.1199 - val_acc: 0.2381\n",
            "Epoch 37/150\n",
            "2/2 [==============================] - 1s 393ms/step - loss: 0.3774 - acc: 0.8479 - val_loss: 1.0893 - val_acc: 0.3016\n",
            "Epoch 38/150\n",
            "2/2 [==============================] - 1s 403ms/step - loss: 0.3816 - acc: 0.8497 - val_loss: 0.9914 - val_acc: 0.4286\n",
            "Epoch 39/150\n",
            "2/2 [==============================] - 1s 389ms/step - loss: 0.3857 - acc: 0.8820 - val_loss: 1.0082 - val_acc: 0.4762\n",
            "Epoch 40/150\n",
            "2/2 [==============================] - 1s 399ms/step - loss: 0.3425 - acc: 0.8741 - val_loss: 1.0988 - val_acc: 0.4444\n",
            "Epoch 41/150\n",
            "2/2 [==============================] - 1s 385ms/step - loss: 0.3557 - acc: 0.8689 - val_loss: 1.1132 - val_acc: 0.4603\n",
            "Epoch 42/150\n",
            "2/2 [==============================] - 1s 392ms/step - loss: 0.3402 - acc: 0.8732 - val_loss: 1.0973 - val_acc: 0.4603\n",
            "Epoch 43/150\n",
            "2/2 [==============================] - 1s 392ms/step - loss: 0.3567 - acc: 0.8506 - val_loss: 1.0927 - val_acc: 0.4603\n",
            "Epoch 44/150\n",
            "2/2 [==============================] - 1s 401ms/step - loss: 0.3300 - acc: 0.8523 - val_loss: 1.1396 - val_acc: 0.3968\n",
            "Epoch 45/150\n",
            "2/2 [==============================] - 1s 403ms/step - loss: 0.3472 - acc: 0.8532 - val_loss: 1.0690 - val_acc: 0.4444\n",
            "Epoch 46/150\n",
            "2/2 [==============================] - 1s 389ms/step - loss: 0.3420 - acc: 0.8593 - val_loss: 1.1003 - val_acc: 0.4444\n",
            "Epoch 47/150\n",
            "2/2 [==============================] - 1s 392ms/step - loss: 0.3134 - acc: 0.8828 - val_loss: 1.1352 - val_acc: 0.4762\n",
            "Epoch 48/150\n",
            "2/2 [==============================] - 1s 392ms/step - loss: 0.3338 - acc: 0.8654 - val_loss: 1.1068 - val_acc: 0.4762\n",
            "Epoch 49/150\n",
            "2/2 [==============================] - 1s 394ms/step - loss: 0.3381 - acc: 0.8567 - val_loss: 1.1353 - val_acc: 0.4444\n",
            "Epoch 50/150\n",
            "2/2 [==============================] - 1s 395ms/step - loss: 0.3297 - acc: 0.8732 - val_loss: 1.2943 - val_acc: 0.3492\n",
            "Epoch 51/150\n",
            "2/2 [==============================] - 1s 391ms/step - loss: 0.3487 - acc: 0.8515 - val_loss: 1.3978 - val_acc: 0.3175\n",
            "Epoch 52/150\n",
            "2/2 [==============================] - 1s 396ms/step - loss: 0.3425 - acc: 0.8654 - val_loss: 1.2146 - val_acc: 0.3968\n",
            "Epoch 53/150\n",
            "2/2 [==============================] - 1s 391ms/step - loss: 0.3038 - acc: 0.8908 - val_loss: 1.0670 - val_acc: 0.5397\n",
            "Epoch 54/150\n",
            "2/2 [==============================] - 1s 395ms/step - loss: 0.3217 - acc: 0.8645 - val_loss: 1.1213 - val_acc: 0.4286\n",
            "Epoch 55/150\n",
            "2/2 [==============================] - 1s 395ms/step - loss: 0.2722 - acc: 0.9047 - val_loss: 1.3281 - val_acc: 0.3333\n",
            "Epoch 56/150\n",
            "2/2 [==============================] - 1s 386ms/step - loss: 0.2757 - acc: 0.8986 - val_loss: 1.2112 - val_acc: 0.4603\n",
            "Epoch 57/150\n",
            "2/2 [==============================] - 1s 384ms/step - loss: 0.2856 - acc: 0.8802 - val_loss: 0.9119 - val_acc: 0.6508\n",
            "Epoch 58/150\n",
            "2/2 [==============================] - 1s 386ms/step - loss: 0.2804 - acc: 0.8776 - val_loss: 1.1341 - val_acc: 0.5556\n",
            "Epoch 59/150\n",
            "2/2 [==============================] - 1s 393ms/step - loss: 0.2603 - acc: 0.9004 - val_loss: 1.3699 - val_acc: 0.4127\n",
            "Epoch 60/150\n",
            "2/2 [==============================] - 1s 381ms/step - loss: 0.2199 - acc: 0.9152 - val_loss: 1.2380 - val_acc: 0.4921\n",
            "Epoch 61/150\n",
            "2/2 [==============================] - 1s 386ms/step - loss: 0.2123 - acc: 0.9336 - val_loss: 1.1224 - val_acc: 0.6032\n",
            "Epoch 62/150\n",
            "2/2 [==============================] - 1s 387ms/step - loss: 0.2609 - acc: 0.8863 - val_loss: 1.2931 - val_acc: 0.5556\n",
            "Epoch 63/150\n",
            "2/2 [==============================] - 1s 389ms/step - loss: 0.2502 - acc: 0.8968 - val_loss: 1.2409 - val_acc: 0.5079\n",
            "Epoch 64/150\n",
            "2/2 [==============================] - 1s 407ms/step - loss: 0.2482 - acc: 0.8759 - val_loss: 0.8075 - val_acc: 0.6667\n",
            "Epoch 65/150\n",
            "2/2 [==============================] - 1s 420ms/step - loss: 0.2597 - acc: 0.9021 - val_loss: 1.3154 - val_acc: 0.5556\n",
            "Epoch 66/150\n",
            "2/2 [==============================] - 1s 392ms/step - loss: 0.2097 - acc: 0.9161 - val_loss: 1.4502 - val_acc: 0.5556\n",
            "Epoch 67/150\n",
            "2/2 [==============================] - 1s 393ms/step - loss: 0.2080 - acc: 0.9257 - val_loss: 1.3712 - val_acc: 0.5556\n",
            "Epoch 68/150\n",
            "2/2 [==============================] - 1s 398ms/step - loss: 0.1793 - acc: 0.9248 - val_loss: 1.2934 - val_acc: 0.5873\n",
            "Epoch 69/150\n",
            "2/2 [==============================] - 1s 393ms/step - loss: 0.1805 - acc: 0.9065 - val_loss: 1.2314 - val_acc: 0.6190\n",
            "Epoch 70/150\n",
            "2/2 [==============================] - 1s 391ms/step - loss: 0.1842 - acc: 0.9309 - val_loss: 1.3107 - val_acc: 0.6190\n",
            "Epoch 71/150\n",
            "2/2 [==============================] - 1s 387ms/step - loss: 0.1910 - acc: 0.9082 - val_loss: 1.1042 - val_acc: 0.6349\n",
            "Epoch 72/150\n",
            "2/2 [==============================] - 1s 385ms/step - loss: 0.1531 - acc: 0.9196 - val_loss: 1.4137 - val_acc: 0.6190\n",
            "Epoch 73/150\n",
            "2/2 [==============================] - 1s 380ms/step - loss: 0.1960 - acc: 0.9336 - val_loss: 1.3768 - val_acc: 0.5714\n",
            "Epoch 74/150\n",
            "2/2 [==============================] - 1s 380ms/step - loss: 0.1386 - acc: 0.9476 - val_loss: 1.2747 - val_acc: 0.5556\n",
            "Epoch 75/150\n",
            "2/2 [==============================] - 1s 393ms/step - loss: 0.1568 - acc: 0.9415 - val_loss: 1.3787 - val_acc: 0.5873\n",
            "Epoch 76/150\n",
            "2/2 [==============================] - 1s 383ms/step - loss: 0.1512 - acc: 0.9319 - val_loss: 1.3451 - val_acc: 0.6508\n",
            "Epoch 77/150\n",
            "2/2 [==============================] - 1s 387ms/step - loss: 0.1278 - acc: 0.9406 - val_loss: 1.3656 - val_acc: 0.6190\n",
            "Epoch 78/150\n",
            "2/2 [==============================] - 1s 391ms/step - loss: 0.1454 - acc: 0.9414 - val_loss: 1.1966 - val_acc: 0.6190\n",
            "Epoch 79/150\n",
            "2/2 [==============================] - 1s 385ms/step - loss: 0.1424 - acc: 0.9274 - val_loss: 1.2753 - val_acc: 0.6508\n",
            "Epoch 80/150\n",
            "2/2 [==============================] - 1s 396ms/step - loss: 0.1270 - acc: 0.9519 - val_loss: 1.3240 - val_acc: 0.6825\n",
            "Epoch 81/150\n",
            "2/2 [==============================] - 1s 398ms/step - loss: 0.2104 - acc: 0.8995 - val_loss: 1.1053 - val_acc: 0.6508\n",
            "Epoch 82/150\n",
            "2/2 [==============================] - 1s 405ms/step - loss: 0.1644 - acc: 0.9423 - val_loss: 1.0148 - val_acc: 0.6508\n",
            "Epoch 83/150\n",
            "2/2 [==============================] - 1s 396ms/step - loss: 0.1429 - acc: 0.9502 - val_loss: 2.1196 - val_acc: 0.4921\n",
            "Epoch 84/150\n",
            "2/2 [==============================] - 1s 402ms/step - loss: 0.1230 - acc: 0.9449 - val_loss: 1.4690 - val_acc: 0.6032\n",
            "Epoch 85/150\n",
            "2/2 [==============================] - 1s 394ms/step - loss: 0.1046 - acc: 0.9545 - val_loss: 1.0262 - val_acc: 0.6349\n",
            "Epoch 86/150\n",
            "2/2 [==============================] - 1s 405ms/step - loss: 0.1241 - acc: 0.9650 - val_loss: 2.0776 - val_acc: 0.2540\n",
            "Epoch 87/150\n",
            "2/2 [==============================] - 1s 393ms/step - loss: 0.1951 - acc: 0.9178 - val_loss: 1.5505 - val_acc: 0.5556\n",
            "Epoch 88/150\n",
            "2/2 [==============================] - 1s 381ms/step - loss: 0.1521 - acc: 0.9336 - val_loss: 0.8861 - val_acc: 0.6984\n",
            "Epoch 89/150\n",
            "2/2 [==============================] - 1s 389ms/step - loss: 0.1648 - acc: 0.9423 - val_loss: 1.4217 - val_acc: 0.5238\n",
            "Epoch 90/150\n",
            "2/2 [==============================] - 1s 391ms/step - loss: 0.1417 - acc: 0.9336 - val_loss: 2.0534 - val_acc: 0.3333\n",
            "Epoch 91/150\n",
            "2/2 [==============================] - 1s 392ms/step - loss: 0.1952 - acc: 0.8978 - val_loss: 1.5110 - val_acc: 0.5238\n",
            "Epoch 92/150\n",
            "2/2 [==============================] - 1s 385ms/step - loss: 0.1041 - acc: 0.9476 - val_loss: 1.1549 - val_acc: 0.6825\n",
            "Epoch 93/150\n",
            "2/2 [==============================] - 1s 389ms/step - loss: 0.1128 - acc: 0.9563 - val_loss: 1.4245 - val_acc: 0.5556\n",
            "Epoch 94/150\n",
            "2/2 [==============================] - 1s 392ms/step - loss: 0.1352 - acc: 0.9397 - val_loss: 1.5474 - val_acc: 0.5556\n",
            "Epoch 95/150\n",
            "2/2 [==============================] - 1s 395ms/step - loss: 0.1114 - acc: 0.9450 - val_loss: 1.4096 - val_acc: 0.6032\n",
            "Epoch 96/150\n",
            "2/2 [==============================] - 1s 395ms/step - loss: 0.0815 - acc: 0.9720 - val_loss: 1.4067 - val_acc: 0.6667\n",
            "Epoch 97/150\n",
            "2/2 [==============================] - 1s 399ms/step - loss: 0.0693 - acc: 0.9843 - val_loss: 2.1827 - val_acc: 0.5238\n",
            "Epoch 98/150\n",
            "2/2 [==============================] - 1s 396ms/step - loss: 0.1218 - acc: 0.9502 - val_loss: 1.8097 - val_acc: 0.6190\n",
            "Epoch 99/150\n",
            "2/2 [==============================] - 1s 390ms/step - loss: 0.0749 - acc: 0.9782 - val_loss: 1.5067 - val_acc: 0.6825\n",
            "Epoch 100/150\n",
            "2/2 [==============================] - 1s 389ms/step - loss: 0.0679 - acc: 0.9685 - val_loss: 1.4090 - val_acc: 0.6825\n",
            "Epoch 101/150\n",
            "2/2 [==============================] - 1s 388ms/step - loss: 0.0722 - acc: 0.9737 - val_loss: 1.6198 - val_acc: 0.6825\n",
            "Epoch 102/150\n",
            "2/2 [==============================] - 1s 397ms/step - loss: 0.0616 - acc: 0.9878 - val_loss: 2.3160 - val_acc: 0.5714\n",
            "Epoch 103/150\n",
            "2/2 [==============================] - 1s 390ms/step - loss: 0.0699 - acc: 0.9746 - val_loss: 1.7701 - val_acc: 0.6825\n",
            "Epoch 104/150\n",
            "2/2 [==============================] - 1s 387ms/step - loss: 0.0427 - acc: 0.9878 - val_loss: 1.1278 - val_acc: 0.7143\n",
            "Epoch 105/150\n",
            "2/2 [==============================] - 1s 389ms/step - loss: 0.0521 - acc: 0.9930 - val_loss: 1.2752 - val_acc: 0.6984\n",
            "Epoch 106/150\n",
            "2/2 [==============================] - 1s 386ms/step - loss: 0.0603 - acc: 0.9817 - val_loss: 2.4663 - val_acc: 0.4286\n",
            "Epoch 107/150\n",
            "2/2 [==============================] - 1s 384ms/step - loss: 0.0917 - acc: 0.9554 - val_loss: 2.1150 - val_acc: 0.5397\n",
            "Epoch 108/150\n",
            "2/2 [==============================] - 1s 398ms/step - loss: 0.0797 - acc: 0.9720 - val_loss: 1.3324 - val_acc: 0.7302\n",
            "Epoch 109/150\n",
            "2/2 [==============================] - 1s 407ms/step - loss: 0.1031 - acc: 0.9615 - val_loss: 1.8780 - val_acc: 0.6667\n",
            "Epoch 110/150\n",
            "2/2 [==============================] - 1s 395ms/step - loss: 0.0416 - acc: 0.9878 - val_loss: 3.0831 - val_acc: 0.5397\n",
            "Epoch 111/150\n",
            "2/2 [==============================] - 1s 395ms/step - loss: 0.1483 - acc: 0.9624 - val_loss: 2.3761 - val_acc: 0.6032\n",
            "Epoch 112/150\n",
            "2/2 [==============================] - 1s 393ms/step - loss: 0.1033 - acc: 0.9685 - val_loss: 1.1314 - val_acc: 0.7302\n",
            "Epoch 113/150\n",
            "2/2 [==============================] - 1s 392ms/step - loss: 0.0879 - acc: 0.9808 - val_loss: 1.0881 - val_acc: 0.7619\n",
            "Epoch 114/150\n",
            "2/2 [==============================] - 1s 396ms/step - loss: 0.0935 - acc: 0.9694 - val_loss: 2.3074 - val_acc: 0.5238\n",
            "Epoch 115/150\n",
            "2/2 [==============================] - 1s 398ms/step - loss: 0.0852 - acc: 0.9563 - val_loss: 2.6583 - val_acc: 0.4921\n",
            "Epoch 116/150\n",
            "2/2 [==============================] - 1s 383ms/step - loss: 0.0750 - acc: 0.9755 - val_loss: 1.9568 - val_acc: 0.5873\n",
            "Epoch 117/150\n",
            "2/2 [==============================] - 1s 394ms/step - loss: 0.0559 - acc: 0.9878 - val_loss: 1.2511 - val_acc: 0.7143\n",
            "Epoch 118/150\n",
            "2/2 [==============================] - 1s 390ms/step - loss: 0.0612 - acc: 0.9843 - val_loss: 1.3901 - val_acc: 0.7143\n",
            "Epoch 119/150\n",
            "2/2 [==============================] - 1s 388ms/step - loss: 0.0559 - acc: 0.9817 - val_loss: 1.9799 - val_acc: 0.6508\n",
            "Epoch 120/150\n",
            "2/2 [==============================] - 1s 409ms/step - loss: 0.0339 - acc: 0.9834 - val_loss: 2.1296 - val_acc: 0.6190\n",
            "Epoch 121/150\n",
            "2/2 [==============================] - 1s 386ms/step - loss: 0.0437 - acc: 0.9817 - val_loss: 1.8623 - val_acc: 0.6825\n",
            "Epoch 122/150\n",
            "2/2 [==============================] - 1s 383ms/step - loss: 0.0210 - acc: 0.9939 - val_loss: 1.7333 - val_acc: 0.6825\n",
            "Epoch 123/150\n",
            "2/2 [==============================] - 1s 383ms/step - loss: 0.0350 - acc: 0.9878 - val_loss: 1.7899 - val_acc: 0.6984\n",
            "Epoch 124/150\n",
            "2/2 [==============================] - 1s 396ms/step - loss: 0.0331 - acc: 0.9878 - val_loss: 1.9445 - val_acc: 0.6984\n",
            "Epoch 125/150\n",
            "2/2 [==============================] - 1s 385ms/step - loss: 0.0147 - acc: 1.0000 - val_loss: 2.0590 - val_acc: 0.6825\n",
            "Epoch 126/150\n",
            "2/2 [==============================] - 1s 399ms/step - loss: 0.0591 - acc: 0.9782 - val_loss: 2.0752 - val_acc: 0.6190\n",
            "Epoch 127/150\n",
            "2/2 [==============================] - 1s 396ms/step - loss: 0.0550 - acc: 0.9755 - val_loss: 1.6510 - val_acc: 0.6984\n",
            "Epoch 128/150\n",
            "2/2 [==============================] - 1s 415ms/step - loss: 0.0184 - acc: 1.0000 - val_loss: 1.5917 - val_acc: 0.6984\n",
            "Epoch 129/150\n",
            "2/2 [==============================] - 1s 412ms/step - loss: 0.0229 - acc: 0.9939 - val_loss: 1.9287 - val_acc: 0.6984\n",
            "Epoch 130/150\n",
            "2/2 [==============================] - 1s 397ms/step - loss: 0.0144 - acc: 0.9939 - val_loss: 2.4423 - val_acc: 0.6349\n",
            "Epoch 131/150\n",
            "2/2 [==============================] - 1s 405ms/step - loss: 0.0259 - acc: 0.9869 - val_loss: 2.3502 - val_acc: 0.6508\n",
            "Epoch 132/150\n",
            "2/2 [==============================] - 1s 400ms/step - loss: 0.0341 - acc: 0.9878 - val_loss: 1.9970 - val_acc: 0.6984\n",
            "Epoch 133/150\n",
            "2/2 [==============================] - 1s 390ms/step - loss: 0.0076 - acc: 1.0000 - val_loss: 1.9034 - val_acc: 0.6984\n",
            "Epoch 134/150\n",
            "2/2 [==============================] - 1s 393ms/step - loss: 0.0254 - acc: 0.9965 - val_loss: 2.4679 - val_acc: 0.6667\n",
            "Epoch 135/150\n",
            "2/2 [==============================] - 1s 393ms/step - loss: 0.0236 - acc: 0.9878 - val_loss: 3.1854 - val_acc: 0.6190\n",
            "Epoch 136/150\n",
            "2/2 [==============================] - 1s 396ms/step - loss: 0.0559 - acc: 0.9878 - val_loss: 2.6272 - val_acc: 0.6349\n",
            "Epoch 137/150\n",
            "2/2 [==============================] - 1s 389ms/step - loss: 0.0083 - acc: 1.0000 - val_loss: 2.1347 - val_acc: 0.6984\n",
            "Epoch 138/150\n",
            "2/2 [==============================] - 1s 393ms/step - loss: 0.0232 - acc: 0.9869 - val_loss: 1.9587 - val_acc: 0.6984\n",
            "Epoch 139/150\n",
            "2/2 [==============================] - 1s 388ms/step - loss: 0.0155 - acc: 0.9939 - val_loss: 2.2349 - val_acc: 0.6349\n",
            "Epoch 140/150\n",
            "2/2 [==============================] - 1s 392ms/step - loss: 0.0332 - acc: 0.9878 - val_loss: 2.4669 - val_acc: 0.6190\n",
            "Epoch 141/150\n",
            "2/2 [==============================] - 1s 392ms/step - loss: 0.0178 - acc: 1.0000 - val_loss: 2.4592 - val_acc: 0.6825\n",
            "Epoch 142/150\n",
            "2/2 [==============================] - 1s 389ms/step - loss: 0.0082 - acc: 1.0000 - val_loss: 2.4504 - val_acc: 0.6825\n",
            "Epoch 143/150\n",
            "2/2 [==============================] - 1s 404ms/step - loss: 0.0031 - acc: 1.0000 - val_loss: 2.4823 - val_acc: 0.6825\n",
            "Epoch 144/150\n",
            "2/2 [==============================] - 1s 392ms/step - loss: 0.0171 - acc: 0.9939 - val_loss: 2.4181 - val_acc: 0.6825\n",
            "Epoch 145/150\n",
            "2/2 [==============================] - 1s 397ms/step - loss: 0.0058 - acc: 1.0000 - val_loss: 2.2108 - val_acc: 0.6984\n",
            "Epoch 146/150\n",
            "2/2 [==============================] - 1s 400ms/step - loss: 0.0146 - acc: 0.9939 - val_loss: 2.3187 - val_acc: 0.6349\n",
            "Epoch 147/150\n",
            "2/2 [==============================] - 1s 406ms/step - loss: 0.0129 - acc: 1.0000 - val_loss: 2.3793 - val_acc: 0.6349\n",
            "Epoch 148/150\n",
            "2/2 [==============================] - 1s 395ms/step - loss: 0.0108 - acc: 1.0000 - val_loss: 2.5247 - val_acc: 0.6349\n",
            "Epoch 149/150\n",
            "2/2 [==============================] - 1s 386ms/step - loss: 0.0115 - acc: 0.9939 - val_loss: 2.8024 - val_acc: 0.6349\n",
            "Epoch 150/150\n",
            "2/2 [==============================] - 1s 394ms/step - loss: 0.0302 - acc: 0.9843 - val_loss: 2.5915 - val_acc: 0.6508\n"
          ],
          "name": "stdout"
        },
        {
          "output_type": "execute_result",
          "data": {
            "text/plain": [
              "<tensorflow.python.keras.callbacks.History at 0x7f2c0c293050>"
            ]
          },
          "metadata": {
            "tags": []
          },
          "execution_count": 44
        }
      ]
    },
    {
      "cell_type": "code",
      "metadata": {
        "id": "UeXodqUU8llC"
      },
      "source": [
        "from IPython.display import SVG\n",
        "from keras.utils.vis_utils import model_to_dot\n",
        "# SVG(model_to_dot(model,show_shapes = True).create(prog = 'dot', format = 'svg'))"
      ],
      "execution_count": null,
      "outputs": []
    },
    {
      "cell_type": "code",
      "metadata": {
        "colab": {
          "base_uri": "https://localhost:8080/"
        },
        "id": "3-niyhBC8llD",
        "outputId": "3e21d0f8-138b-4227-90b4-a9edc57b9fa0"
      },
      "source": [
        "# Evaluate the model on test set\n",
        "score = model.evaluate(x_test, y_test, verbose = 0)\n",
        "\n",
        "# Print test accuracy\n",
        "print('\\n', 'Test accuracy:', score[1])"
      ],
      "execution_count": null,
      "outputs": [
        {
          "output_type": "stream",
          "text": [
            "\n",
            " Test accuracy: 0.6507936716079712\n"
          ],
          "name": "stdout"
        }
      ]
    },
    {
      "cell_type": "code",
      "metadata": {
        "id": "kJ_3bwsG8llE"
      },
      "source": [
        "# Labels\n",
        "labels = [\"Yes\",  # index 0\n",
        "        \"No\",      # index 1\n",
        "        ]"
      ],
      "execution_count": null,
      "outputs": []
    },
    {
      "cell_type": "code",
      "metadata": {
        "colab": {
          "base_uri": "https://localhost:8080/",
          "height": 485
        },
        "id": "i0DT7XKO8llF",
        "outputId": "e927c1f2-3fd2-4461-db58-b301fe33fef7"
      },
      "source": [
        "y_hat = model.predict(x_test)\n",
        "\n",
        "# Plot a random sample of 10 test images, their predicted labels and ground truth\n",
        "figure = plt.figure(figsize = (20, 8))\n",
        "\n",
        "for i, index in enumerate(np.random.choice(x_test.shape[0], size = 15, replace = False)):\n",
        "    ax = figure.add_subplot(3, 5, i + 1, xticks = [], yticks = [])\n",
        "    # Display each image\n",
        "    ax.imshow(np.squeeze(x_test[index]))\n",
        "    predict_index = np.argmax(y_hat[index])\n",
        "    true_index = np.argmax(y_test[index])\n",
        "    # Set the title for each image\n",
        "    ax.set_title(\"{} ({})\".format(labels[predict_index], labels[true_index]), color = (\"green\" if predict_index ==  true_index else \"red\"))\n",
        "\n",
        "plt.show()"
      ],
      "execution_count": null,
      "outputs": [
        {
          "output_type": "display_data",
          "data": {
            "image/png": "[encoded data removed]",
            "text/plain": [
              "<Figure size 1440x576 with 15 Axes>"
            ]
          },
          "metadata": {
            "tags": []
          }
        }
      ]
    }
  ]
}